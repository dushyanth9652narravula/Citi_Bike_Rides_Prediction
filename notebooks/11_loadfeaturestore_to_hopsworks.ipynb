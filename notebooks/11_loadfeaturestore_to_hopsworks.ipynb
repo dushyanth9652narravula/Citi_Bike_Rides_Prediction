{
 "cells": [
  {
   "cell_type": "code",
   "execution_count": 1,
   "id": "3e485f41",
   "metadata": {},
   "outputs": [
    {
     "data": {
      "text/plain": [
       "True"
      ]
     },
     "execution_count": 1,
     "metadata": {},
     "output_type": "execute_result"
    }
   ],
   "source": [
    "from dotenv import load_dotenv\n",
    "import os\n",
    "load_dotenv() "
   ]
  },
  {
   "cell_type": "code",
   "execution_count": 2,
   "id": "4e62ba58",
   "metadata": {},
   "outputs": [],
   "source": [
    "import sys\n",
    "import os\n",
    "\n",
    "# Add the parent directory to the Python path\n",
    "sys.path.append(os.path.abspath(os.path.join(os.getcwd(), \"..\")))"
   ]
  },
  {
   "cell_type": "code",
   "execution_count": 5,
   "id": "5d94d13b",
   "metadata": {},
   "outputs": [
    {
     "name": "stdout",
     "output_type": "stream",
     "text": [
      "Download raw data from 2024 to 2024\n",
      "File already exists for 2024-01.\n",
      "Loading data for 2024-01...\n",
      "Total records: 1,888,085\n",
      "Valid records: 1,880,623\n",
      "Records dropped: 7,462 (0.40%)\n",
      "Successfully processed data for 2024-01.\n",
      "File already exists for 2024-02.\n",
      "Loading data for 2024-02...\n",
      "Total records: 2,121,501\n",
      "Valid records: 2,115,129\n",
      "Records dropped: 6,372 (0.30%)\n",
      "Successfully processed data for 2024-02.\n",
      "File already exists for 2024-03.\n",
      "Loading data for 2024-03...\n",
      "Total records: 2,663,295\n",
      "Valid records: 2,654,825\n",
      "Records dropped: 8,470 (0.32%)\n",
      "Successfully processed data for 2024-03.\n",
      "File already exists for 2024-04.\n",
      "Loading data for 2024-04...\n",
      "Total records: 3,217,063\n",
      "Valid records: 3,207,286\n",
      "Records dropped: 9,777 (0.30%)\n",
      "Successfully processed data for 2024-04.\n",
      "File already exists for 2024-05.\n",
      "Loading data for 2024-05...\n",
      "Total records: 4,230,360\n",
      "Valid records: 4,215,930\n",
      "Records dropped: 14,430 (0.34%)\n",
      "Successfully processed data for 2024-05.\n",
      "File already exists for 2024-06.\n",
      "Loading data for 2024-06...\n",
      "Total records: 4,783,576\n",
      "Valid records: 4,764,573\n",
      "Records dropped: 19,003 (0.40%)\n",
      "Successfully processed data for 2024-06.\n",
      "File already exists for 2024-07.\n",
      "Loading data for 2024-07...\n",
      "Total records: 4,722,896\n",
      "Valid records: 4,704,316\n",
      "Records dropped: 18,580 (0.39%)\n",
      "Successfully processed data for 2024-07.\n",
      "File already exists for 2024-08.\n",
      "Loading data for 2024-08...\n",
      "Total records: 4,603,575\n",
      "Valid records: 4,584,748\n",
      "Records dropped: 18,827 (0.41%)\n",
      "Successfully processed data for 2024-08.\n",
      "File already exists for 2024-09.\n",
      "Loading data for 2024-09...\n",
      "Total records: 4,997,898\n",
      "Valid records: 4,978,482\n",
      "Records dropped: 19,416 (0.39%)\n",
      "Successfully processed data for 2024-09.\n",
      "File already exists for 2024-10.\n",
      "Loading data for 2024-10...\n",
      "Total records: 5,150,054\n",
      "Valid records: 5,130,334\n",
      "Records dropped: 19,720 (0.38%)\n",
      "Successfully processed data for 2024-10.\n",
      "File already exists for 2024-11.\n",
      "Loading data for 2024-11...\n",
      "Total records: 3,710,134\n",
      "Valid records: 3,694,837\n",
      "Records dropped: 15,297 (0.41%)\n",
      "Successfully processed data for 2024-11.\n",
      "File already exists for 2024-12.\n",
      "Loading data for 2024-12...\n",
      "Total records: 2,311,171\n",
      "Valid records: 2,302,246\n",
      "Records dropped: 8,925 (0.39%)\n",
      "Successfully processed data for 2024-12.\n",
      "Combining all monthly data...\n",
      "Data loading and processing complete!\n",
      "Data loading complete.\n"
     ]
    }
   ],
   "source": [
    "from datetime import datetime\n",
    "import pandas as pd\n",
    "from src.data_utils import load_and_process_rides_data\n",
    "\n",
    "from_year = 2024\n",
    "# to_year = datetime.now().year\n",
    "to_year = 2024\n",
    "print(f\"Download raw data from {from_year} to {to_year}\")\n",
    "\n",
    "rides = pd.DataFrame()\n",
    "chunks = []\n",
    "for year in range(from_year, to_year+1):\n",
    "\n",
    "    rides_one_year = load_and_process_rides_data(year)\n",
    "\n",
    "    chunks.append(rides_one_year)\n",
    "    break\n",
    "\n",
    "# Concatenate all chunks at the end\n",
    "rides = pd.concat(chunks, ignore_index=True)\n",
    "print(\"Data loading complete.\")"
   ]
  },
  {
   "cell_type": "code",
   "execution_count": 6,
   "id": "56ce7c9b",
   "metadata": {},
   "outputs": [
    {
     "data": {
      "text/html": [
       "<div>\n",
       "<style scoped>\n",
       "    .dataframe tbody tr th:only-of-type {\n",
       "        vertical-align: middle;\n",
       "    }\n",
       "\n",
       "    .dataframe tbody tr th {\n",
       "        vertical-align: top;\n",
       "    }\n",
       "\n",
       "    .dataframe thead th {\n",
       "        text-align: right;\n",
       "    }\n",
       "</style>\n",
       "<table border=\"1\" class=\"dataframe\">\n",
       "  <thead>\n",
       "    <tr style=\"text-align: right;\">\n",
       "      <th></th>\n",
       "      <th>pickup_datetime</th>\n",
       "      <th>pickup_location_id</th>\n",
       "    </tr>\n",
       "  </thead>\n",
       "  <tbody>\n",
       "    <tr>\n",
       "      <th>0</th>\n",
       "      <td>2024-01-22 18:43:19.012</td>\n",
       "      <td>7954.12</td>\n",
       "    </tr>\n",
       "    <tr>\n",
       "      <th>1</th>\n",
       "      <td>2024-01-11 19:19:18.721</td>\n",
       "      <td>6771.13</td>\n",
       "    </tr>\n",
       "    <tr>\n",
       "      <th>2</th>\n",
       "      <td>2024-01-30 19:17:41.693</td>\n",
       "      <td>5659.11</td>\n",
       "    </tr>\n",
       "    <tr>\n",
       "      <th>3</th>\n",
       "      <td>2024-01-27 11:27:01.759</td>\n",
       "      <td>6771.13</td>\n",
       "    </tr>\n",
       "    <tr>\n",
       "      <th>4</th>\n",
       "      <td>2024-01-16 15:15:41.000</td>\n",
       "      <td>7443.01</td>\n",
       "    </tr>\n",
       "    <tr>\n",
       "      <th>...</th>\n",
       "      <td>...</td>\n",
       "      <td>...</td>\n",
       "    </tr>\n",
       "    <tr>\n",
       "      <th>44233324</th>\n",
       "      <td>2024-12-21 19:08:07.762</td>\n",
       "      <td>4386.07</td>\n",
       "    </tr>\n",
       "    <tr>\n",
       "      <th>44233325</th>\n",
       "      <td>2024-12-17 18:59:56.045</td>\n",
       "      <td>6925.09</td>\n",
       "    </tr>\n",
       "    <tr>\n",
       "      <th>44233326</th>\n",
       "      <td>2024-12-18 06:44:59.074</td>\n",
       "      <td>6717.06</td>\n",
       "    </tr>\n",
       "    <tr>\n",
       "      <th>44233327</th>\n",
       "      <td>2024-12-20 20:53:58.339</td>\n",
       "      <td>4019.06</td>\n",
       "    </tr>\n",
       "    <tr>\n",
       "      <th>44233328</th>\n",
       "      <td>2024-12-23 18:57:11.252</td>\n",
       "      <td>6948.10</td>\n",
       "    </tr>\n",
       "  </tbody>\n",
       "</table>\n",
       "<p>44233329 rows × 2 columns</p>\n",
       "</div>"
      ],
      "text/plain": [
       "                 pickup_datetime pickup_location_id\n",
       "0        2024-01-22 18:43:19.012            7954.12\n",
       "1        2024-01-11 19:19:18.721            6771.13\n",
       "2        2024-01-30 19:17:41.693            5659.11\n",
       "3        2024-01-27 11:27:01.759            6771.13\n",
       "4        2024-01-16 15:15:41.000            7443.01\n",
       "...                          ...                ...\n",
       "44233324 2024-12-21 19:08:07.762            4386.07\n",
       "44233325 2024-12-17 18:59:56.045            6925.09\n",
       "44233326 2024-12-18 06:44:59.074            6717.06\n",
       "44233327 2024-12-20 20:53:58.339            4019.06\n",
       "44233328 2024-12-23 18:57:11.252            6948.10\n",
       "\n",
       "[44233329 rows x 2 columns]"
      ]
     },
     "execution_count": 6,
     "metadata": {},
     "output_type": "execute_result"
    }
   ],
   "source": [
    "rides"
   ]
  },
  {
   "cell_type": "code",
   "execution_count": 7,
   "id": "cbebf9fe",
   "metadata": {},
   "outputs": [
    {
     "data": {
      "text/plain": [
       "(44233329, 2)"
      ]
     },
     "execution_count": 7,
     "metadata": {},
     "output_type": "execute_result"
    }
   ],
   "source": [
    "rides.shape"
   ]
  },
  {
   "cell_type": "code",
   "execution_count": 8,
   "id": "7d577330",
   "metadata": {},
   "outputs": [],
   "source": [
    "from src.data_utils import transform_raw_data_into_ts_data\n",
    "\n",
    "ts_data = transform_raw_data_into_ts_data(rides)"
   ]
  },
  {
   "cell_type": "code",
   "execution_count": 9,
   "id": "c981cac2",
   "metadata": {},
   "outputs": [
    {
     "data": {
      "text/plain": [
       "(20879568, 3)"
      ]
     },
     "execution_count": 9,
     "metadata": {},
     "output_type": "execute_result"
    }
   ],
   "source": [
    "ts_data.shape"
   ]
  },
  {
   "cell_type": "code",
   "execution_count": 10,
   "id": "6dc52314",
   "metadata": {},
   "outputs": [
    {
     "name": "stdout",
     "output_type": "stream",
     "text": [
      "<class 'pandas.core.frame.DataFrame'>\n",
      "RangeIndex: 20879568 entries, 0 to 20879567\n",
      "Data columns (total 3 columns):\n",
      " #   Column              Dtype         \n",
      "---  ------              -----         \n",
      " 0   pickup_hour         datetime64[ns]\n",
      " 1   pickup_location_id  object        \n",
      " 2   rides               int16         \n",
      "dtypes: datetime64[ns](1), int16(1), object(1)\n",
      "memory usage: 358.4+ MB\n"
     ]
    }
   ],
   "source": [
    "ts_data.info()"
   ]
  },
  {
   "cell_type": "code",
   "execution_count": 11,
   "id": "93e513ef",
   "metadata": {},
   "outputs": [
    {
     "data": {
      "text/html": [
       "<div>\n",
       "<style scoped>\n",
       "    .dataframe tbody tr th:only-of-type {\n",
       "        vertical-align: middle;\n",
       "    }\n",
       "\n",
       "    .dataframe tbody tr th {\n",
       "        vertical-align: top;\n",
       "    }\n",
       "\n",
       "    .dataframe thead th {\n",
       "        text-align: right;\n",
       "    }\n",
       "</style>\n",
       "<table border=\"1\" class=\"dataframe\">\n",
       "  <thead>\n",
       "    <tr style=\"text-align: right;\">\n",
       "      <th></th>\n",
       "      <th>pickup_hour</th>\n",
       "      <th>pickup_location_id</th>\n",
       "      <th>rides</th>\n",
       "    </tr>\n",
       "  </thead>\n",
       "  <tbody>\n",
       "    <tr>\n",
       "      <th>0</th>\n",
       "      <td>2024-01-01 00:00:00</td>\n",
       "      <td>190 Morgan</td>\n",
       "      <td>0</td>\n",
       "    </tr>\n",
       "    <tr>\n",
       "      <th>1</th>\n",
       "      <td>2024-01-01 01:00:00</td>\n",
       "      <td>190 Morgan</td>\n",
       "      <td>0</td>\n",
       "    </tr>\n",
       "    <tr>\n",
       "      <th>2</th>\n",
       "      <td>2024-01-01 02:00:00</td>\n",
       "      <td>190 Morgan</td>\n",
       "      <td>0</td>\n",
       "    </tr>\n",
       "    <tr>\n",
       "      <th>3</th>\n",
       "      <td>2024-01-01 03:00:00</td>\n",
       "      <td>190 Morgan</td>\n",
       "      <td>0</td>\n",
       "    </tr>\n",
       "    <tr>\n",
       "      <th>4</th>\n",
       "      <td>2024-01-01 04:00:00</td>\n",
       "      <td>190 Morgan</td>\n",
       "      <td>0</td>\n",
       "    </tr>\n",
       "    <tr>\n",
       "      <th>...</th>\n",
       "      <td>...</td>\n",
       "      <td>...</td>\n",
       "      <td>...</td>\n",
       "    </tr>\n",
       "    <tr>\n",
       "      <th>20879563</th>\n",
       "      <td>2024-12-31 19:00:00</td>\n",
       "      <td>Shop Morgan</td>\n",
       "      <td>0</td>\n",
       "    </tr>\n",
       "    <tr>\n",
       "      <th>20879564</th>\n",
       "      <td>2024-12-31 20:00:00</td>\n",
       "      <td>Shop Morgan</td>\n",
       "      <td>0</td>\n",
       "    </tr>\n",
       "    <tr>\n",
       "      <th>20879565</th>\n",
       "      <td>2024-12-31 21:00:00</td>\n",
       "      <td>Shop Morgan</td>\n",
       "      <td>0</td>\n",
       "    </tr>\n",
       "    <tr>\n",
       "      <th>20879566</th>\n",
       "      <td>2024-12-31 22:00:00</td>\n",
       "      <td>Shop Morgan</td>\n",
       "      <td>0</td>\n",
       "    </tr>\n",
       "    <tr>\n",
       "      <th>20879567</th>\n",
       "      <td>2024-12-31 23:00:00</td>\n",
       "      <td>Shop Morgan</td>\n",
       "      <td>0</td>\n",
       "    </tr>\n",
       "  </tbody>\n",
       "</table>\n",
       "<p>20879568 rows × 3 columns</p>\n",
       "</div>"
      ],
      "text/plain": [
       "                 pickup_hour pickup_location_id  rides\n",
       "0        2024-01-01 00:00:00         190 Morgan      0\n",
       "1        2024-01-01 01:00:00         190 Morgan      0\n",
       "2        2024-01-01 02:00:00         190 Morgan      0\n",
       "3        2024-01-01 03:00:00         190 Morgan      0\n",
       "4        2024-01-01 04:00:00         190 Morgan      0\n",
       "...                      ...                ...    ...\n",
       "20879563 2024-12-31 19:00:00       Shop Morgan       0\n",
       "20879564 2024-12-31 20:00:00       Shop Morgan       0\n",
       "20879565 2024-12-31 21:00:00       Shop Morgan       0\n",
       "20879566 2024-12-31 22:00:00       Shop Morgan       0\n",
       "20879567 2024-12-31 23:00:00       Shop Morgan       0\n",
       "\n",
       "[20879568 rows x 3 columns]"
      ]
     },
     "execution_count": 11,
     "metadata": {},
     "output_type": "execute_result"
    }
   ],
   "source": [
    "ts_data"
   ]
  },
  {
   "cell_type": "code",
   "execution_count": 12,
   "id": "1cfd12b2",
   "metadata": {},
   "outputs": [
    {
     "name": "stdout",
     "output_type": "stream",
     "text": [
      "2025-05-10 12:56:25,257 INFO: Initializing external client\n",
      "2025-05-10 12:56:25,257 INFO: Base URL: https://c.app.hopsworks.ai:443\n",
      "2025-05-10 12:56:31,364 INFO: Python Engine initialized.\n",
      "\n",
      "Logged in to project, explore it here https://c.app.hopsworks.ai:443/p/1214680\n",
      "Successfully connected to Hopsworks project: MLOPS_End_To_End_Project\n"
     ]
    }
   ],
   "source": [
    "import hopsworks\n",
    "\n",
    "api_key = os.getenv('HOPSWORK_API_KEY')  \n",
    "project_name = os.getenv('HOPSWORK_PROJECT_NAME')  \n",
    "\n",
    "# pip install confluent-kafka\n",
    "# Initialize connection to Hopsworks  \n",
    "project = hopsworks.login(  \n",
    "    api_key_value=api_key,  \n",
    "    project=project_name  \n",
    ")  \n",
    "print(f\"Successfully connected to Hopsworks project: {project_name}\")"
   ]
  },
  {
   "cell_type": "code",
   "execution_count": 17,
   "id": "4378643c",
   "metadata": {},
   "outputs": [],
   "source": [
    "feature_store = project.get_feature_store()"
   ]
  },
  {
   "cell_type": "code",
   "execution_count": 18,
   "id": "8deac595",
   "metadata": {},
   "outputs": [],
   "source": [
    "FEATURE_GROUP_NAME = \"citibike_hourly_feature_group\"\n",
    "FEATURE_GROUP_VERSION = 1"
   ]
  },
  {
   "cell_type": "code",
   "execution_count": 19,
   "id": "c661e41b",
   "metadata": {},
   "outputs": [],
   "source": [
    "feature_group = feature_store.get_or_create_feature_group(\n",
    "    name=FEATURE_GROUP_NAME,\n",
    "    version=FEATURE_GROUP_VERSION,\n",
    "    description = \"Time-series data at hourly frequency\",\n",
    "    primary_key = [\"pickup_location_id\",\"pickup_hour\"],\n",
    "    event_time = \"pickup_hour\"\n",
    ")"
   ]
  },
  {
   "cell_type": "code",
   "execution_count": 20,
   "id": "1cb3e1f3",
   "metadata": {},
   "outputs": [
    {
     "name": "stdout",
     "output_type": "stream",
     "text": [
      "Feature Group created successfully, explore it at \n",
      "https://c.app.hopsworks.ai:443/p/1214680/fs/1203298/fg/1454606\n"
     ]
    },
    {
     "name": "stderr",
     "output_type": "stream",
     "text": [
      "Uploading Dataframe: 100.00% |██████████| Rows 20879568/20879568 | Elapsed Time: 1:00:00 | Remaining Time: 00:00\n"
     ]
    },
    {
     "name": "stdout",
     "output_type": "stream",
     "text": [
      "Launching job: citibike_hourly_feature_group_1_offline_fg_materialization\n",
      "Job started successfully, you can follow the progress at \n",
      "https://c.app.hopsworks.ai:443/p/1214680/jobs/named/citibike_hourly_feature_group_1_offline_fg_materialization/executions\n"
     ]
    },
    {
     "data": {
      "text/plain": [
       "(Job('citibike_hourly_feature_group_1_offline_fg_materialization', 'SPARK'),\n",
       " None)"
      ]
     },
     "execution_count": 20,
     "metadata": {},
     "output_type": "execute_result"
    }
   ],
   "source": [
    "feature_group.insert(ts_data, write_options={\"wait_for_job\": False})"
   ]
  }
 ],
 "metadata": {
  "kernelspec": {
   "display_name": "finalProject",
   "language": "python",
   "name": "python3"
  },
  "language_info": {
   "codemirror_mode": {
    "name": "ipython",
    "version": 3
   },
   "file_extension": ".py",
   "mimetype": "text/x-python",
   "name": "python",
   "nbconvert_exporter": "python",
   "pygments_lexer": "ipython3",
   "version": "3.10.0"
  }
 },
 "nbformat": 4,
 "nbformat_minor": 5
}
