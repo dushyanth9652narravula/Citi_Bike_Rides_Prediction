{
 "cells": [
  {
   "cell_type": "code",
   "execution_count": 23,
   "id": "685d779b",
   "metadata": {},
   "outputs": [
    {
     "name": "stdout",
     "output_type": "stream",
     "text": [
      "The autoreload extension is already loaded. To reload it, use:\n",
      "  %reload_ext autoreload\n"
     ]
    }
   ],
   "source": [
    "%load_ext autoreload\n",
    "%autoreload 2"
   ]
  },
  {
   "cell_type": "code",
   "execution_count": 24,
   "id": "6e3beb25",
   "metadata": {},
   "outputs": [],
   "source": [
    "import sys\n",
    "import os\n",
    "\n",
    "# Add the parent directory to the Python path\n",
    "sys.path.append(os.path.abspath(os.path.join(os.getcwd(), \"..\")))\n",
    "import src.config as config"
   ]
  },
  {
   "cell_type": "code",
   "execution_count": 25,
   "id": "521dfb17",
   "metadata": {},
   "outputs": [
    {
     "name": "stdout",
     "output_type": "stream",
     "text": [
      "Current UTC hour (ceiled): 2024-05-10 22:00:00+00:00\n"
     ]
    }
   ],
   "source": [
    "import src.config as config\n",
    "from src.inference import (\n",
    "    get_feature_store\n",
    ")\n",
    "\n",
    "from datetime import datetime, timezone, timedelta\n",
    "\n",
    "def get_current_utc_hour_ceiled():\n",
    "    \"\"\"Get current UTC time ceiled to the next hour\"\"\"\n",
    "    current = datetime.now(timezone.utc)\n",
    "    if current.minute > 0 or current.second > 0:\n",
    "        # Ceil to next hour\n",
    "        current = current + timedelta(hours=1)\n",
    "\n",
    "    # Reset minutes, seconds, and microseconds\n",
    "    current = current.replace(minute=0, second=0, microsecond=0, year = 2024)\n",
    "    return current\n",
    "\n",
    "# Usage\n",
    "current_hour = get_current_utc_hour_ceiled()\n",
    "print(f\"Current UTC hour (ceiled): {current_hour}\")"
   ]
  },
  {
   "cell_type": "code",
   "execution_count": 26,
   "id": "8cbb1292",
   "metadata": {},
   "outputs": [
    {
     "name": "stdout",
     "output_type": "stream",
     "text": [
      "2025-05-10 17:39:33,794 INFO: Closing external client and cleaning up certificates.\n",
      "Connection closed.\n",
      "2025-05-10 17:39:33,801 INFO: Initializing external client\n",
      "2025-05-10 17:39:33,803 INFO: Base URL: https://c.app.hopsworks.ai:443\n",
      "2025-05-10 17:39:34,460 INFO: Python Engine initialized.\n",
      "\n",
      "Logged in to project, explore it here https://c.app.hopsworks.ai:443/p/1214680\n",
      "Finished: Reading data from Hopsworks, using Hopsworks Feature Query Service (1.57s) \n"
     ]
    }
   ],
   "source": [
    "fs = get_feature_store()\n",
    "fg = fs.get_feature_group(\n",
    "    name=config.FEATURE_GROUP_MODEL_PREDICTION,\n",
    "    version=1\n",
    ")\n",
    "\n",
    "query = fg.select_all()\n",
    "df= query.read(read_options={\"arrow_flight_config\": {\"timeout\": 600}})"
   ]
  },
  {
   "cell_type": "code",
   "execution_count": 27,
   "id": "0955ba12",
   "metadata": {},
   "outputs": [
    {
     "data": {
      "text/html": [
       "<div>\n",
       "<style scoped>\n",
       "    .dataframe tbody tr th:only-of-type {\n",
       "        vertical-align: middle;\n",
       "    }\n",
       "\n",
       "    .dataframe tbody tr th {\n",
       "        vertical-align: top;\n",
       "    }\n",
       "\n",
       "    .dataframe thead th {\n",
       "        text-align: right;\n",
       "    }\n",
       "</style>\n",
       "<table border=\"1\" class=\"dataframe\">\n",
       "  <thead>\n",
       "    <tr style=\"text-align: right;\">\n",
       "      <th></th>\n",
       "      <th>pickup_location_id</th>\n",
       "      <th>predicted_demand</th>\n",
       "      <th>pickup_hour</th>\n",
       "    </tr>\n",
       "  </thead>\n",
       "  <tbody>\n",
       "    <tr>\n",
       "      <th>0</th>\n",
       "      <td>4710.06</td>\n",
       "      <td>9.0</td>\n",
       "      <td>2024-05-10 21:00:00+00:00</td>\n",
       "    </tr>\n",
       "    <tr>\n",
       "      <th>1</th>\n",
       "      <td>3696.05</td>\n",
       "      <td>0.0</td>\n",
       "      <td>2024-05-10 21:00:00+00:00</td>\n",
       "    </tr>\n",
       "    <tr>\n",
       "      <th>2</th>\n",
       "      <td>4467.03</td>\n",
       "      <td>3.0</td>\n",
       "      <td>2024-05-10 21:00:00+00:00</td>\n",
       "    </tr>\n",
       "    <tr>\n",
       "      <th>3</th>\n",
       "      <td>4310.06</td>\n",
       "      <td>2.0</td>\n",
       "      <td>2024-05-10 21:00:00+00:00</td>\n",
       "    </tr>\n",
       "    <tr>\n",
       "      <th>4</th>\n",
       "      <td>3981.1</td>\n",
       "      <td>0.0</td>\n",
       "      <td>2024-05-10 21:00:00+00:00</td>\n",
       "    </tr>\n",
       "    <tr>\n",
       "      <th>...</th>\n",
       "      <td>...</td>\n",
       "      <td>...</td>\n",
       "      <td>...</td>\n",
       "    </tr>\n",
       "    <tr>\n",
       "      <th>1131</th>\n",
       "      <td>2782.02</td>\n",
       "      <td>0.0</td>\n",
       "      <td>2024-05-10 22:00:00+00:00</td>\n",
       "    </tr>\n",
       "    <tr>\n",
       "      <th>1132</th>\n",
       "      <td>2923.01</td>\n",
       "      <td>0.0</td>\n",
       "      <td>2024-05-10 22:00:00+00:00</td>\n",
       "    </tr>\n",
       "    <tr>\n",
       "      <th>1133</th>\n",
       "      <td>3839.02</td>\n",
       "      <td>2.0</td>\n",
       "      <td>2024-05-10 22:00:00+00:00</td>\n",
       "    </tr>\n",
       "    <tr>\n",
       "      <th>1134</th>\n",
       "      <td>4416.10</td>\n",
       "      <td>2.0</td>\n",
       "      <td>2024-05-10 22:00:00+00:00</td>\n",
       "    </tr>\n",
       "    <tr>\n",
       "      <th>1135</th>\n",
       "      <td>4672.01</td>\n",
       "      <td>1.0</td>\n",
       "      <td>2024-05-10 22:00:00+00:00</td>\n",
       "    </tr>\n",
       "  </tbody>\n",
       "</table>\n",
       "<p>1136 rows × 3 columns</p>\n",
       "</div>"
      ],
      "text/plain": [
       "     pickup_location_id  predicted_demand               pickup_hour\n",
       "0               4710.06               9.0 2024-05-10 21:00:00+00:00\n",
       "1               3696.05               0.0 2024-05-10 21:00:00+00:00\n",
       "2               4467.03               3.0 2024-05-10 21:00:00+00:00\n",
       "3               4310.06               2.0 2024-05-10 21:00:00+00:00\n",
       "4                3981.1               0.0 2024-05-10 21:00:00+00:00\n",
       "...                 ...               ...                       ...\n",
       "1131            2782.02               0.0 2024-05-10 22:00:00+00:00\n",
       "1132            2923.01               0.0 2024-05-10 22:00:00+00:00\n",
       "1133            3839.02               2.0 2024-05-10 22:00:00+00:00\n",
       "1134            4416.10               2.0 2024-05-10 22:00:00+00:00\n",
       "1135            4672.01               1.0 2024-05-10 22:00:00+00:00\n",
       "\n",
       "[1136 rows x 3 columns]"
      ]
     },
     "execution_count": 27,
     "metadata": {},
     "output_type": "execute_result"
    }
   ],
   "source": [
    "df"
   ]
  },
  {
   "cell_type": "code",
   "execution_count": 28,
   "id": "2935f5d4",
   "metadata": {},
   "outputs": [
    {
     "name": "stdout",
     "output_type": "stream",
     "text": [
      "2025-05-10 17:39:49,491 INFO: Closing external client and cleaning up certificates.\n",
      "Connection closed.\n",
      "2025-05-10 17:39:49,498 INFO: Initializing external client\n",
      "2025-05-10 17:39:49,498 INFO: Base URL: https://c.app.hopsworks.ai:443\n",
      "2025-05-10 17:39:50,041 INFO: Python Engine initialized.\n",
      "\n",
      "Logged in to project, explore it here https://c.app.hopsworks.ai:443/p/1214680\n"
     ]
    }
   ],
   "source": [
    "fs = get_feature_store()\n",
    "fg = fs.get_feature_group(name=config.FEATURE_GROUP_MODEL_PREDICTION, version=1)"
   ]
  },
  {
   "cell_type": "code",
   "execution_count": 29,
   "id": "b3c141ec",
   "metadata": {},
   "outputs": [
    {
     "name": "stdout",
     "output_type": "stream",
     "text": [
      "Finished: Reading data from Hopsworks, using Hopsworks Feature Query Service (0.48s) \n"
     ]
    }
   ],
   "source": [
    "df = fg.read()"
   ]
  },
  {
   "cell_type": "code",
   "execution_count": 30,
   "id": "9433ef71",
   "metadata": {},
   "outputs": [
    {
     "data": {
      "text/html": [
       "<div>\n",
       "<style scoped>\n",
       "    .dataframe tbody tr th:only-of-type {\n",
       "        vertical-align: middle;\n",
       "    }\n",
       "\n",
       "    .dataframe tbody tr th {\n",
       "        vertical-align: top;\n",
       "    }\n",
       "\n",
       "    .dataframe thead th {\n",
       "        text-align: right;\n",
       "    }\n",
       "</style>\n",
       "<table border=\"1\" class=\"dataframe\">\n",
       "  <thead>\n",
       "    <tr style=\"text-align: right;\">\n",
       "      <th></th>\n",
       "      <th>pickup_location_id</th>\n",
       "      <th>predicted_demand</th>\n",
       "      <th>pickup_hour</th>\n",
       "    </tr>\n",
       "  </thead>\n",
       "  <tbody>\n",
       "    <tr>\n",
       "      <th>0</th>\n",
       "      <td>4710.06</td>\n",
       "      <td>9.0</td>\n",
       "      <td>2024-05-10 21:00:00+00:00</td>\n",
       "    </tr>\n",
       "    <tr>\n",
       "      <th>1</th>\n",
       "      <td>3696.05</td>\n",
       "      <td>0.0</td>\n",
       "      <td>2024-05-10 21:00:00+00:00</td>\n",
       "    </tr>\n",
       "    <tr>\n",
       "      <th>2</th>\n",
       "      <td>4467.03</td>\n",
       "      <td>3.0</td>\n",
       "      <td>2024-05-10 21:00:00+00:00</td>\n",
       "    </tr>\n",
       "    <tr>\n",
       "      <th>3</th>\n",
       "      <td>4310.06</td>\n",
       "      <td>2.0</td>\n",
       "      <td>2024-05-10 21:00:00+00:00</td>\n",
       "    </tr>\n",
       "    <tr>\n",
       "      <th>4</th>\n",
       "      <td>3981.1</td>\n",
       "      <td>0.0</td>\n",
       "      <td>2024-05-10 21:00:00+00:00</td>\n",
       "    </tr>\n",
       "    <tr>\n",
       "      <th>...</th>\n",
       "      <td>...</td>\n",
       "      <td>...</td>\n",
       "      <td>...</td>\n",
       "    </tr>\n",
       "    <tr>\n",
       "      <th>1131</th>\n",
       "      <td>2782.02</td>\n",
       "      <td>0.0</td>\n",
       "      <td>2024-05-10 22:00:00+00:00</td>\n",
       "    </tr>\n",
       "    <tr>\n",
       "      <th>1132</th>\n",
       "      <td>2923.01</td>\n",
       "      <td>0.0</td>\n",
       "      <td>2024-05-10 22:00:00+00:00</td>\n",
       "    </tr>\n",
       "    <tr>\n",
       "      <th>1133</th>\n",
       "      <td>3839.02</td>\n",
       "      <td>2.0</td>\n",
       "      <td>2024-05-10 22:00:00+00:00</td>\n",
       "    </tr>\n",
       "    <tr>\n",
       "      <th>1134</th>\n",
       "      <td>4416.10</td>\n",
       "      <td>2.0</td>\n",
       "      <td>2024-05-10 22:00:00+00:00</td>\n",
       "    </tr>\n",
       "    <tr>\n",
       "      <th>1135</th>\n",
       "      <td>4672.01</td>\n",
       "      <td>1.0</td>\n",
       "      <td>2024-05-10 22:00:00+00:00</td>\n",
       "    </tr>\n",
       "  </tbody>\n",
       "</table>\n",
       "<p>1136 rows × 3 columns</p>\n",
       "</div>"
      ],
      "text/plain": [
       "     pickup_location_id  predicted_demand               pickup_hour\n",
       "0               4710.06               9.0 2024-05-10 21:00:00+00:00\n",
       "1               3696.05               0.0 2024-05-10 21:00:00+00:00\n",
       "2               4467.03               3.0 2024-05-10 21:00:00+00:00\n",
       "3               4310.06               2.0 2024-05-10 21:00:00+00:00\n",
       "4                3981.1               0.0 2024-05-10 21:00:00+00:00\n",
       "...                 ...               ...                       ...\n",
       "1131            2782.02               0.0 2024-05-10 22:00:00+00:00\n",
       "1132            2923.01               0.0 2024-05-10 22:00:00+00:00\n",
       "1133            3839.02               2.0 2024-05-10 22:00:00+00:00\n",
       "1134            4416.10               2.0 2024-05-10 22:00:00+00:00\n",
       "1135            4672.01               1.0 2024-05-10 22:00:00+00:00\n",
       "\n",
       "[1136 rows x 3 columns]"
      ]
     },
     "execution_count": 30,
     "metadata": {},
     "output_type": "execute_result"
    }
   ],
   "source": [
    "df"
   ]
  },
  {
   "cell_type": "code",
   "execution_count": 31,
   "id": "73a801cb",
   "metadata": {},
   "outputs": [
    {
     "data": {
      "text/plain": [
       "Timestamp('2024-05-10 22:00:00+0000', tz='Etc/UTC')"
      ]
     },
     "execution_count": 31,
     "metadata": {},
     "output_type": "execute_result"
    }
   ],
   "source": [
    "df[\"pickup_hour\"].max()"
   ]
  },
  {
   "cell_type": "code",
   "execution_count": 32,
   "id": "9684be67",
   "metadata": {},
   "outputs": [
    {
     "name": "stdout",
     "output_type": "stream",
     "text": [
      "2024-05-10 22:00:00+00:00\n"
     ]
    }
   ],
   "source": [
    "now = datetime.now(timezone.utc)\n",
    "next_hour = (now + timedelta(hours=1)).replace(minute=0, second=0, microsecond=0,year = 2024)\n",
    "print(next_hour)"
   ]
  },
  {
   "cell_type": "code",
   "execution_count": 33,
   "id": "45ef5d65",
   "metadata": {},
   "outputs": [
    {
     "data": {
      "text/html": [
       "<div>\n",
       "<style scoped>\n",
       "    .dataframe tbody tr th:only-of-type {\n",
       "        vertical-align: middle;\n",
       "    }\n",
       "\n",
       "    .dataframe tbody tr th {\n",
       "        vertical-align: top;\n",
       "    }\n",
       "\n",
       "    .dataframe thead th {\n",
       "        text-align: right;\n",
       "    }\n",
       "</style>\n",
       "<table border=\"1\" class=\"dataframe\">\n",
       "  <thead>\n",
       "    <tr style=\"text-align: right;\">\n",
       "      <th></th>\n",
       "      <th>pickup_location_id</th>\n",
       "      <th>predicted_demand</th>\n",
       "      <th>pickup_hour</th>\n",
       "    </tr>\n",
       "  </thead>\n",
       "  <tbody>\n",
       "    <tr>\n",
       "      <th>568</th>\n",
       "      <td>3256.04</td>\n",
       "      <td>1.0</td>\n",
       "      <td>2024-05-10 22:00:00+00:00</td>\n",
       "    </tr>\n",
       "    <tr>\n",
       "      <th>569</th>\n",
       "      <td>3283.05</td>\n",
       "      <td>0.0</td>\n",
       "      <td>2024-05-10 22:00:00+00:00</td>\n",
       "    </tr>\n",
       "    <tr>\n",
       "      <th>570</th>\n",
       "      <td>4077.04</td>\n",
       "      <td>3.0</td>\n",
       "      <td>2024-05-10 22:00:00+00:00</td>\n",
       "    </tr>\n",
       "    <tr>\n",
       "      <th>571</th>\n",
       "      <td>4253.02</td>\n",
       "      <td>0.0</td>\n",
       "      <td>2024-05-10 22:00:00+00:00</td>\n",
       "    </tr>\n",
       "    <tr>\n",
       "      <th>572</th>\n",
       "      <td>2961.05</td>\n",
       "      <td>1.0</td>\n",
       "      <td>2024-05-10 22:00:00+00:00</td>\n",
       "    </tr>\n",
       "    <tr>\n",
       "      <th>...</th>\n",
       "      <td>...</td>\n",
       "      <td>...</td>\n",
       "      <td>...</td>\n",
       "    </tr>\n",
       "    <tr>\n",
       "      <th>1131</th>\n",
       "      <td>2782.02</td>\n",
       "      <td>0.0</td>\n",
       "      <td>2024-05-10 22:00:00+00:00</td>\n",
       "    </tr>\n",
       "    <tr>\n",
       "      <th>1132</th>\n",
       "      <td>2923.01</td>\n",
       "      <td>0.0</td>\n",
       "      <td>2024-05-10 22:00:00+00:00</td>\n",
       "    </tr>\n",
       "    <tr>\n",
       "      <th>1133</th>\n",
       "      <td>3839.02</td>\n",
       "      <td>2.0</td>\n",
       "      <td>2024-05-10 22:00:00+00:00</td>\n",
       "    </tr>\n",
       "    <tr>\n",
       "      <th>1134</th>\n",
       "      <td>4416.10</td>\n",
       "      <td>2.0</td>\n",
       "      <td>2024-05-10 22:00:00+00:00</td>\n",
       "    </tr>\n",
       "    <tr>\n",
       "      <th>1135</th>\n",
       "      <td>4672.01</td>\n",
       "      <td>1.0</td>\n",
       "      <td>2024-05-10 22:00:00+00:00</td>\n",
       "    </tr>\n",
       "  </tbody>\n",
       "</table>\n",
       "<p>568 rows × 3 columns</p>\n",
       "</div>"
      ],
      "text/plain": [
       "     pickup_location_id  predicted_demand               pickup_hour\n",
       "568             3256.04               1.0 2024-05-10 22:00:00+00:00\n",
       "569             3283.05               0.0 2024-05-10 22:00:00+00:00\n",
       "570             4077.04               3.0 2024-05-10 22:00:00+00:00\n",
       "571             4253.02               0.0 2024-05-10 22:00:00+00:00\n",
       "572             2961.05               1.0 2024-05-10 22:00:00+00:00\n",
       "...                 ...               ...                       ...\n",
       "1131            2782.02               0.0 2024-05-10 22:00:00+00:00\n",
       "1132            2923.01               0.0 2024-05-10 22:00:00+00:00\n",
       "1133            3839.02               2.0 2024-05-10 22:00:00+00:00\n",
       "1134            4416.10               2.0 2024-05-10 22:00:00+00:00\n",
       "1135            4672.01               1.0 2024-05-10 22:00:00+00:00\n",
       "\n",
       "[568 rows x 3 columns]"
      ]
     },
     "execution_count": 33,
     "metadata": {},
     "output_type": "execute_result"
    }
   ],
   "source": [
    "df[df[\"pickup_hour\"] == next_hour]"
   ]
  }
 ],
 "metadata": {
  "kernelspec": {
   "display_name": "finalProject",
   "language": "python",
   "name": "python3"
  },
  "language_info": {
   "codemirror_mode": {
    "name": "ipython",
    "version": 3
   },
   "file_extension": ".py",
   "mimetype": "text/x-python",
   "name": "python",
   "nbconvert_exporter": "python",
   "pygments_lexer": "ipython3",
   "version": "3.10.0"
  }
 },
 "nbformat": 4,
 "nbformat_minor": 5
}
