{
 "cells": [
  {
   "cell_type": "code",
   "execution_count": 5,
   "id": "09242368",
   "metadata": {},
   "outputs": [],
   "source": [
    "from pathlib import Path\n",
    "import pandas as pd\n",
    "import requests\n",
    "import io\n",
    "import zipfile"
   ]
  },
  {
   "cell_type": "code",
   "execution_count": null,
   "id": "a170f9f2",
   "metadata": {},
   "outputs": [],
   "source": [
    "import requests\n",
    "from pathlib import Path\n",
    "import zipfile\n",
    "import io\n",
    "import pandas as pd\n",
    "\n",
    "def fetch_raw_data(year: int, month: int) -> str:\n",
    "    # Construct the correct URL\n",
    "    ext = \"csv.zip\" if month <= 4 else \"zip\"\n",
    "    url = f\"https://s3.amazonaws.com/tripdata/{year}{month:02}-citibike-tripdata.{ext}\"\n",
    "\n",
    "    # Download the ZIP file\n",
    "    response = requests.get(url)\n",
    "    if response.status_code != 200:\n",
    "        raise Exception(f\"{url} is not available\")\n",
    "\n",
    "    # Prepare path to save final CSV\n",
    "    raw_dir = Path(\"..\") / \"data\" / \"raw\"\n",
    "    raw_dir.mkdir(parents=True, exist_ok=True)\n",
    "    output_file = raw_dir / f\"rides_{year}_{month:02}.csv\"\n",
    "\n",
    "    # Process ZIP and read all CSV files\n",
    "    with zipfile.ZipFile(io.BytesIO(response.content)) as z:\n",
    "        csv_files = [f for f in z.namelist() if f.endswith('.csv')]\n",
    "        df_list = []\n",
    "\n",
    "        for file in csv_files:\n",
    "            df = pd.read_csv(z.open(file), encoding='latin1',low_memory=False)\n",
    "            \n",
    "            # Optional: Drop unnamed or empty extra columns\n",
    "            df = df.loc[:, ~df.columns.str.contains('^Unnamed')]\n",
    "            df_list.append(df)\n",
    "\n",
    "        combined_df = pd.concat(df_list, ignore_index=True)\n",
    "\n",
    "        # Save combined CSV\n",
    "        combined_df.to_csv(output_file, index=False)\n",
    "\n",
    "    print(f\"Successfully saved combined CSV to: {output_file}\")\n",
    "    return str(output_file)\n"
   ]
  },
  {
   "cell_type": "code",
   "execution_count": 15,
   "id": "1149da09",
   "metadata": {},
   "outputs": [
    {
     "name": "stderr",
     "output_type": "stream",
     "text": [
      "C:\\Users\\HP\\AppData\\Local\\Temp\\ipykernel_21692\\1699710808.py:28: DtypeWarning: Columns (7) have mixed types. Specify dtype option on import or set low_memory=False.\n",
      "  df = pd.read_csv(z.open(file), encoding='latin1')\n",
      "C:\\Users\\HP\\AppData\\Local\\Temp\\ipykernel_21692\\1699710808.py:28: DtypeWarning: Columns (5,7) have mixed types. Specify dtype option on import or set low_memory=False.\n",
      "  df = pd.read_csv(z.open(file), encoding='latin1')\n",
      "C:\\Users\\HP\\AppData\\Local\\Temp\\ipykernel_21692\\1699710808.py:28: DtypeWarning: Columns (5,7) have mixed types. Specify dtype option on import or set low_memory=False.\n",
      "  df = pd.read_csv(z.open(file), encoding='latin1')\n",
      "C:\\Users\\HP\\AppData\\Local\\Temp\\ipykernel_21692\\1699710808.py:28: DtypeWarning: Columns (5,7) have mixed types. Specify dtype option on import or set low_memory=False.\n",
      "  df = pd.read_csv(z.open(file), encoding='latin1')\n",
      "C:\\Users\\HP\\AppData\\Local\\Temp\\ipykernel_21692\\1699710808.py:28: DtypeWarning: Columns (5,7) have mixed types. Specify dtype option on import or set low_memory=False.\n",
      "  df = pd.read_csv(z.open(file), encoding='latin1')\n"
     ]
    },
    {
     "name": "stdout",
     "output_type": "stream",
     "text": [
      "Successfully saved combined CSV to: ..\\data\\raw\\rides_2024_05.csv\n"
     ]
    },
    {
     "data": {
      "text/plain": [
       "'..\\\\data\\\\raw\\\\rides_2024_05.csv'"
      ]
     },
     "execution_count": 15,
     "metadata": {},
     "output_type": "execute_result"
    }
   ],
   "source": [
    "fetch_raw_data(2024,5)"
   ]
  },
  {
   "cell_type": "code",
   "execution_count": null,
   "id": "02c3529f",
   "metadata": {},
   "outputs": [],
   "source": []
  }
 ],
 "metadata": {
  "kernelspec": {
   "display_name": "finalProject",
   "language": "python",
   "name": "python3"
  },
  "language_info": {
   "codemirror_mode": {
    "name": "ipython",
    "version": 3
   },
   "file_extension": ".py",
   "mimetype": "text/x-python",
   "name": "python",
   "nbconvert_exporter": "python",
   "pygments_lexer": "ipython3",
   "version": "3.10.0"
  }
 },
 "nbformat": 4,
 "nbformat_minor": 5
}
