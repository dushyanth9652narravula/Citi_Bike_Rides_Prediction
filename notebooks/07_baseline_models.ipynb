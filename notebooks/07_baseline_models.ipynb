{
 "cells": [
  {
   "cell_type": "code",
   "execution_count": 1,
   "id": "94d3b025",
   "metadata": {},
   "outputs": [],
   "source": [
    "%load_ext autoreload\n",
    "%autoreload 2"
   ]
  },
  {
   "cell_type": "code",
   "execution_count": 2,
   "id": "df4e914c",
   "metadata": {},
   "outputs": [],
   "source": [
    "import sys\n",
    "import os\n",
    "\n",
    "# Add the parent directory to the Python path\n",
    "sys.path.append(os.path.abspath(os.path.join(os.getcwd(), \"..\")))"
   ]
  },
  {
   "cell_type": "code",
   "execution_count": 3,
   "id": "89b38781",
   "metadata": {},
   "outputs": [
    {
     "data": {
      "text/html": [
       "<div>\n",
       "<style scoped>\n",
       "    .dataframe tbody tr th:only-of-type {\n",
       "        vertical-align: middle;\n",
       "    }\n",
       "\n",
       "    .dataframe tbody tr th {\n",
       "        vertical-align: top;\n",
       "    }\n",
       "\n",
       "    .dataframe thead th {\n",
       "        text-align: right;\n",
       "    }\n",
       "</style>\n",
       "<table border=\"1\" class=\"dataframe\">\n",
       "  <thead>\n",
       "    <tr style=\"text-align: right;\">\n",
       "      <th></th>\n",
       "      <th>rides_t-672</th>\n",
       "      <th>rides_t-671</th>\n",
       "      <th>rides_t-670</th>\n",
       "      <th>rides_t-669</th>\n",
       "      <th>rides_t-668</th>\n",
       "      <th>rides_t-667</th>\n",
       "      <th>rides_t-666</th>\n",
       "      <th>rides_t-665</th>\n",
       "      <th>rides_t-664</th>\n",
       "      <th>rides_t-663</th>\n",
       "      <th>...</th>\n",
       "      <th>rides_t-7</th>\n",
       "      <th>rides_t-6</th>\n",
       "      <th>rides_t-5</th>\n",
       "      <th>rides_t-4</th>\n",
       "      <th>rides_t-3</th>\n",
       "      <th>rides_t-2</th>\n",
       "      <th>rides_t-1</th>\n",
       "      <th>pickup_hour</th>\n",
       "      <th>pickup_location_id</th>\n",
       "      <th>target</th>\n",
       "    </tr>\n",
       "  </thead>\n",
       "  <tbody>\n",
       "    <tr>\n",
       "      <th>0</th>\n",
       "      <td>0</td>\n",
       "      <td>0</td>\n",
       "      <td>0</td>\n",
       "      <td>0</td>\n",
       "      <td>0</td>\n",
       "      <td>0</td>\n",
       "      <td>0</td>\n",
       "      <td>0</td>\n",
       "      <td>0</td>\n",
       "      <td>0</td>\n",
       "      <td>...</td>\n",
       "      <td>0</td>\n",
       "      <td>0</td>\n",
       "      <td>0</td>\n",
       "      <td>0</td>\n",
       "      <td>0</td>\n",
       "      <td>0</td>\n",
       "      <td>0</td>\n",
       "      <td>2024-01-29</td>\n",
       "      <td>190 Morgan</td>\n",
       "      <td>0</td>\n",
       "    </tr>\n",
       "    <tr>\n",
       "      <th>1</th>\n",
       "      <td>0</td>\n",
       "      <td>0</td>\n",
       "      <td>0</td>\n",
       "      <td>0</td>\n",
       "      <td>0</td>\n",
       "      <td>0</td>\n",
       "      <td>0</td>\n",
       "      <td>0</td>\n",
       "      <td>0</td>\n",
       "      <td>0</td>\n",
       "      <td>...</td>\n",
       "      <td>0</td>\n",
       "      <td>0</td>\n",
       "      <td>0</td>\n",
       "      <td>0</td>\n",
       "      <td>0</td>\n",
       "      <td>0</td>\n",
       "      <td>0</td>\n",
       "      <td>2024-01-30</td>\n",
       "      <td>190 Morgan</td>\n",
       "      <td>0</td>\n",
       "    </tr>\n",
       "    <tr>\n",
       "      <th>2</th>\n",
       "      <td>0</td>\n",
       "      <td>0</td>\n",
       "      <td>0</td>\n",
       "      <td>0</td>\n",
       "      <td>0</td>\n",
       "      <td>0</td>\n",
       "      <td>0</td>\n",
       "      <td>0</td>\n",
       "      <td>0</td>\n",
       "      <td>0</td>\n",
       "      <td>...</td>\n",
       "      <td>0</td>\n",
       "      <td>0</td>\n",
       "      <td>0</td>\n",
       "      <td>0</td>\n",
       "      <td>0</td>\n",
       "      <td>0</td>\n",
       "      <td>0</td>\n",
       "      <td>2024-01-31</td>\n",
       "      <td>190 Morgan</td>\n",
       "      <td>0</td>\n",
       "    </tr>\n",
       "    <tr>\n",
       "      <th>3</th>\n",
       "      <td>0</td>\n",
       "      <td>0</td>\n",
       "      <td>0</td>\n",
       "      <td>0</td>\n",
       "      <td>0</td>\n",
       "      <td>0</td>\n",
       "      <td>0</td>\n",
       "      <td>0</td>\n",
       "      <td>0</td>\n",
       "      <td>0</td>\n",
       "      <td>...</td>\n",
       "      <td>0</td>\n",
       "      <td>0</td>\n",
       "      <td>0</td>\n",
       "      <td>0</td>\n",
       "      <td>0</td>\n",
       "      <td>0</td>\n",
       "      <td>0</td>\n",
       "      <td>2024-02-01</td>\n",
       "      <td>190 Morgan</td>\n",
       "      <td>0</td>\n",
       "    </tr>\n",
       "    <tr>\n",
       "      <th>4</th>\n",
       "      <td>0</td>\n",
       "      <td>0</td>\n",
       "      <td>0</td>\n",
       "      <td>0</td>\n",
       "      <td>0</td>\n",
       "      <td>0</td>\n",
       "      <td>0</td>\n",
       "      <td>0</td>\n",
       "      <td>0</td>\n",
       "      <td>0</td>\n",
       "      <td>...</td>\n",
       "      <td>0</td>\n",
       "      <td>0</td>\n",
       "      <td>0</td>\n",
       "      <td>0</td>\n",
       "      <td>0</td>\n",
       "      <td>0</td>\n",
       "      <td>0</td>\n",
       "      <td>2024-02-02</td>\n",
       "      <td>190 Morgan</td>\n",
       "      <td>0</td>\n",
       "    </tr>\n",
       "    <tr>\n",
       "      <th>...</th>\n",
       "      <td>...</td>\n",
       "      <td>...</td>\n",
       "      <td>...</td>\n",
       "      <td>...</td>\n",
       "      <td>...</td>\n",
       "      <td>...</td>\n",
       "      <td>...</td>\n",
       "      <td>...</td>\n",
       "      <td>...</td>\n",
       "      <td>...</td>\n",
       "      <td>...</td>\n",
       "      <td>...</td>\n",
       "      <td>...</td>\n",
       "      <td>...</td>\n",
       "      <td>...</td>\n",
       "      <td>...</td>\n",
       "      <td>...</td>\n",
       "      <td>...</td>\n",
       "      <td>...</td>\n",
       "      <td>...</td>\n",
       "      <td>...</td>\n",
       "    </tr>\n",
       "    <tr>\n",
       "      <th>137083</th>\n",
       "      <td>0</td>\n",
       "      <td>0</td>\n",
       "      <td>0</td>\n",
       "      <td>0</td>\n",
       "      <td>0</td>\n",
       "      <td>0</td>\n",
       "      <td>0</td>\n",
       "      <td>0</td>\n",
       "      <td>0</td>\n",
       "      <td>0</td>\n",
       "      <td>...</td>\n",
       "      <td>0</td>\n",
       "      <td>0</td>\n",
       "      <td>0</td>\n",
       "      <td>0</td>\n",
       "      <td>0</td>\n",
       "      <td>0</td>\n",
       "      <td>0</td>\n",
       "      <td>2024-03-27</td>\n",
       "      <td>SYS038</td>\n",
       "      <td>0</td>\n",
       "    </tr>\n",
       "    <tr>\n",
       "      <th>137084</th>\n",
       "      <td>0</td>\n",
       "      <td>0</td>\n",
       "      <td>0</td>\n",
       "      <td>0</td>\n",
       "      <td>0</td>\n",
       "      <td>0</td>\n",
       "      <td>0</td>\n",
       "      <td>0</td>\n",
       "      <td>0</td>\n",
       "      <td>0</td>\n",
       "      <td>...</td>\n",
       "      <td>0</td>\n",
       "      <td>0</td>\n",
       "      <td>0</td>\n",
       "      <td>0</td>\n",
       "      <td>0</td>\n",
       "      <td>0</td>\n",
       "      <td>0</td>\n",
       "      <td>2024-03-28</td>\n",
       "      <td>SYS038</td>\n",
       "      <td>0</td>\n",
       "    </tr>\n",
       "    <tr>\n",
       "      <th>137085</th>\n",
       "      <td>0</td>\n",
       "      <td>0</td>\n",
       "      <td>0</td>\n",
       "      <td>0</td>\n",
       "      <td>0</td>\n",
       "      <td>0</td>\n",
       "      <td>0</td>\n",
       "      <td>0</td>\n",
       "      <td>0</td>\n",
       "      <td>0</td>\n",
       "      <td>...</td>\n",
       "      <td>0</td>\n",
       "      <td>0</td>\n",
       "      <td>0</td>\n",
       "      <td>0</td>\n",
       "      <td>0</td>\n",
       "      <td>0</td>\n",
       "      <td>0</td>\n",
       "      <td>2024-03-29</td>\n",
       "      <td>SYS038</td>\n",
       "      <td>0</td>\n",
       "    </tr>\n",
       "    <tr>\n",
       "      <th>137086</th>\n",
       "      <td>0</td>\n",
       "      <td>0</td>\n",
       "      <td>0</td>\n",
       "      <td>0</td>\n",
       "      <td>0</td>\n",
       "      <td>0</td>\n",
       "      <td>0</td>\n",
       "      <td>0</td>\n",
       "      <td>0</td>\n",
       "      <td>0</td>\n",
       "      <td>...</td>\n",
       "      <td>0</td>\n",
       "      <td>0</td>\n",
       "      <td>0</td>\n",
       "      <td>0</td>\n",
       "      <td>0</td>\n",
       "      <td>0</td>\n",
       "      <td>0</td>\n",
       "      <td>2024-03-30</td>\n",
       "      <td>SYS038</td>\n",
       "      <td>0</td>\n",
       "    </tr>\n",
       "    <tr>\n",
       "      <th>137087</th>\n",
       "      <td>0</td>\n",
       "      <td>0</td>\n",
       "      <td>0</td>\n",
       "      <td>0</td>\n",
       "      <td>0</td>\n",
       "      <td>0</td>\n",
       "      <td>0</td>\n",
       "      <td>0</td>\n",
       "      <td>0</td>\n",
       "      <td>0</td>\n",
       "      <td>...</td>\n",
       "      <td>0</td>\n",
       "      <td>0</td>\n",
       "      <td>0</td>\n",
       "      <td>0</td>\n",
       "      <td>0</td>\n",
       "      <td>0</td>\n",
       "      <td>0</td>\n",
       "      <td>2024-03-31</td>\n",
       "      <td>SYS038</td>\n",
       "      <td>1</td>\n",
       "    </tr>\n",
       "  </tbody>\n",
       "</table>\n",
       "<p>137088 rows × 675 columns</p>\n",
       "</div>"
      ],
      "text/plain": [
       "        rides_t-672  rides_t-671  rides_t-670  rides_t-669  rides_t-668  \\\n",
       "0                 0            0            0            0            0   \n",
       "1                 0            0            0            0            0   \n",
       "2                 0            0            0            0            0   \n",
       "3                 0            0            0            0            0   \n",
       "4                 0            0            0            0            0   \n",
       "...             ...          ...          ...          ...          ...   \n",
       "137083            0            0            0            0            0   \n",
       "137084            0            0            0            0            0   \n",
       "137085            0            0            0            0            0   \n",
       "137086            0            0            0            0            0   \n",
       "137087            0            0            0            0            0   \n",
       "\n",
       "        rides_t-667  rides_t-666  rides_t-665  rides_t-664  rides_t-663  ...  \\\n",
       "0                 0            0            0            0            0  ...   \n",
       "1                 0            0            0            0            0  ...   \n",
       "2                 0            0            0            0            0  ...   \n",
       "3                 0            0            0            0            0  ...   \n",
       "4                 0            0            0            0            0  ...   \n",
       "...             ...          ...          ...          ...          ...  ...   \n",
       "137083            0            0            0            0            0  ...   \n",
       "137084            0            0            0            0            0  ...   \n",
       "137085            0            0            0            0            0  ...   \n",
       "137086            0            0            0            0            0  ...   \n",
       "137087            0            0            0            0            0  ...   \n",
       "\n",
       "        rides_t-7  rides_t-6  rides_t-5  rides_t-4  rides_t-3  rides_t-2  \\\n",
       "0               0          0          0          0          0          0   \n",
       "1               0          0          0          0          0          0   \n",
       "2               0          0          0          0          0          0   \n",
       "3               0          0          0          0          0          0   \n",
       "4               0          0          0          0          0          0   \n",
       "...           ...        ...        ...        ...        ...        ...   \n",
       "137083          0          0          0          0          0          0   \n",
       "137084          0          0          0          0          0          0   \n",
       "137085          0          0          0          0          0          0   \n",
       "137086          0          0          0          0          0          0   \n",
       "137087          0          0          0          0          0          0   \n",
       "\n",
       "        rides_t-1  pickup_hour  pickup_location_id  target  \n",
       "0               0   2024-01-29          190 Morgan       0  \n",
       "1               0   2024-01-30          190 Morgan       0  \n",
       "2               0   2024-01-31          190 Morgan       0  \n",
       "3               0   2024-02-01          190 Morgan       0  \n",
       "4               0   2024-02-02          190 Morgan       0  \n",
       "...           ...          ...                 ...     ...  \n",
       "137083          0   2024-03-27              SYS038       0  \n",
       "137084          0   2024-03-28              SYS038       0  \n",
       "137085          0   2024-03-29              SYS038       0  \n",
       "137086          0   2024-03-30              SYS038       0  \n",
       "137087          0   2024-03-31              SYS038       1  \n",
       "\n",
       "[137088 rows x 675 columns]"
      ]
     },
     "execution_count": 3,
     "metadata": {},
     "output_type": "execute_result"
    }
   ],
   "source": [
    "import pandas as pd\n",
    "from src.config import TRANSFORMED_DATA_DIR\n",
    "\n",
    "df = pd.read_parquet(TRANSFORMED_DATA_DIR / \"tabular_data.parquet\")\n",
    "df"
   ]
  },
  {
   "cell_type": "code",
   "execution_count": 1,
   "id": "1127c7c2",
   "metadata": {},
   "outputs": [
    {
     "ename": "ModuleNotFoundError",
     "evalue": "No module named 'src'",
     "output_type": "error",
     "traceback": [
      "\u001b[1;31m---------------------------------------------------------------------------\u001b[0m",
      "\u001b[1;31mModuleNotFoundError\u001b[0m                       Traceback (most recent call last)",
      "Cell \u001b[1;32mIn[1], line 3\u001b[0m\n\u001b[0;32m      1\u001b[0m \u001b[38;5;28;01mfrom\u001b[39;00m\u001b[38;5;250m \u001b[39m\u001b[38;5;21;01mdatetime\u001b[39;00m\u001b[38;5;250m \u001b[39m\u001b[38;5;28;01mimport\u001b[39;00m datetime\n\u001b[1;32m----> 3\u001b[0m \u001b[38;5;28;01mfrom\u001b[39;00m\u001b[38;5;250m \u001b[39m\u001b[38;5;21;01msrc\u001b[39;00m\u001b[38;5;21;01m.\u001b[39;00m\u001b[38;5;21;01mdata_utils\u001b[39;00m\u001b[38;5;250m \u001b[39m\u001b[38;5;28;01mimport\u001b[39;00m split_time_series_data\n\u001b[0;32m      5\u001b[0m X_train, y_train, X_test, y_test \u001b[38;5;241m=\u001b[39m split_time_series_data(\n\u001b[0;32m      6\u001b[0m     df,\n\u001b[0;32m      7\u001b[0m     cutoff_date\u001b[38;5;241m=\u001b[39mdatetime(\u001b[38;5;241m2024\u001b[39m, \u001b[38;5;241m3\u001b[39m, \u001b[38;5;241m15\u001b[39m, \u001b[38;5;241m0\u001b[39m, \u001b[38;5;241m0\u001b[39m, \u001b[38;5;241m0\u001b[39m),\n\u001b[0;32m      8\u001b[0m     target_column\u001b[38;5;241m=\u001b[39m\u001b[38;5;124m\"\u001b[39m\u001b[38;5;124mtarget\u001b[39m\u001b[38;5;124m\"\u001b[39m\n\u001b[0;32m      9\u001b[0m )\n\u001b[0;32m     11\u001b[0m \u001b[38;5;28mprint\u001b[39m(X_train\u001b[38;5;241m.\u001b[39mshape)\n",
      "\u001b[1;31mModuleNotFoundError\u001b[0m: No module named 'src'"
     ]
    }
   ],
   "source": [
    "from datetime import datetime\n",
    "\n",
    "from src.data_utils import split_time_series_data\n",
    "\n",
    "X_train, y_train, X_test, y_test = split_time_series_data(\n",
    "    df,\n",
    "    cutoff_date=datetime(2024, 3, 15, 0, 0, 0),\n",
    "    target_column=\"target\"\n",
    ")\n",
    "\n",
    "print(X_train.shape)\n",
    "print(y_train.shape)\n",
    "print(X_test.shape)\n",
    "print(y_test.shape)"
   ]
  },
  {
   "cell_type": "code",
   "execution_count": 12,
   "id": "69688d8f",
   "metadata": {},
   "outputs": [],
   "source": [
    "import numpy as np\n",
    "\n",
    "class BaselineModelPreviousHourCitiBike:\n",
    "\n",
    "    def fit(self, X_train: pd.DataFrame, y_train: pd.Series):\n",
    "        pass\n",
    "\n",
    "    def predict(self, X_test: pd.DataFrame) -> np.array:\n",
    "        return X_test[\"rides_t-1\"]"
   ]
  },
  {
   "cell_type": "code",
   "execution_count": 13,
   "id": "0dfec1da",
   "metadata": {},
   "outputs": [],
   "source": [
    "model = BaselineModelPreviousHourCitiBike()\n",
    "predictions = model.predict(X_test)"
   ]
  },
  {
   "cell_type": "code",
   "execution_count": 14,
   "id": "dbeec93d",
   "metadata": {},
   "outputs": [
    {
     "name": "stdout",
     "output_type": "stream",
     "text": [
      "0.7117\n"
     ]
    }
   ],
   "source": [
    "from sklearn.metrics import mean_absolute_error\n",
    "\n",
    "test_mae = mean_absolute_error(y_test, predictions)\n",
    "print(f\"{test_mae:.4f}\")"
   ]
  },
  {
   "cell_type": "code",
   "execution_count": 15,
   "id": "40d9fe18",
   "metadata": {},
   "outputs": [
    {
     "name": "stderr",
     "output_type": "stream",
     "text": [
      "INFO:src.experiments_utils:MLflow tracking URI and credentials set.\n"
     ]
    }
   ],
   "source": [
    "from src.experiments_utils import set_mlflow_tracking, log_model_to_mlflow\n",
    "from dotenv import load_dotenv\n",
    "load_dotenv() \n",
    "\n",
    "mlflow = set_mlflow_tracking()"
   ]
  },
  {
   "cell_type": "code",
   "execution_count": 16,
   "id": "399a0e81",
   "metadata": {},
   "outputs": [
    {
     "name": "stderr",
     "output_type": "stream",
     "text": [
      "2025/05/10 10:33:30 INFO mlflow.tracking.fluent: Experiment with name 'BaselineModelPreviousHourCitiBike' does not exist. Creating a new experiment.\n",
      "INFO:src.experiments_utils:Experiment set to: BaselineModelPreviousHourCitiBike\n",
      "INFO:src.experiments_utils:Logged mean_absolute_error: 0.7116944204152249\n",
      "f:\\DushyanthData\\Applied_Machine_Learning\\Final_Project\\finalProject\\lib\\site-packages\\mlflow\\types\\utils.py:452: UserWarning: Hint: Inferred schema contains integer column(s). Integer columns in Python cannot represent missing values. If your input data contains missing values at inference time, it will be encoded as floats and will cause a schema enforcement error. The best way to avoid this problem is to infer the model schema based on a realistic data sample (training dataset) that includes missing values. Alternatively, you can declare integer columns as doubles (float64) whenever these columns may have missing values. See `Handling Integers With Missing Values <https://www.mlflow.org/docs/latest/models.html#handling-integers-with-missing-values>`_ for more details.\n",
      "  warnings.warn(\n",
      "INFO:src.experiments_utils:Model signature inferred.\n"
     ]
    },
    {
     "data": {
      "application/vnd.jupyter.widget-view+json": {
       "model_id": "2a517833e25f472d980f9c6339945939",
       "version_major": 2,
       "version_minor": 0
      },
      "text/plain": [
       "Downloading artifacts:   0%|          | 0/7 [00:00<?, ?it/s]"
      ]
     },
     "metadata": {},
     "output_type": "display_data"
    },
    {
     "name": "stderr",
     "output_type": "stream",
     "text": [
      "2025/05/10 10:35:37 INFO mlflow.models.model: Found the following environment variables used during model inference: [HOPSWORK_API_KEY]. Please check if you need to set them when deploying the model. To disable this message, set environment variable `MLFLOW_RECORD_ENV_VARS_IN_MODEL_LOGGING` to `false`.\n",
      "Successfully registered model 'BaselineModelPreviousHourCitiBike'.\n",
      "2025/05/10 10:38:02 INFO mlflow.store.model_registry.abstract_store: Waiting up to 300 seconds for model version to finish creation. Model name: BaselineModelPreviousHourCitiBike, version 1\n",
      "Created version '1' of model 'BaselineModelPreviousHourCitiBike'.\n",
      "INFO:src.experiments_utils:Model logged with name: BaselineModelPreviousHourCitiBike\n"
     ]
    },
    {
     "name": "stdout",
     "output_type": "stream",
     "text": [
      "🏃 View run incongruous-tern-387 at: https://dagshub.com/dushyanth9652narravula/dnarravu_NYC_Yellow_Cab_Taxi_Project.mlflow/#/experiments/4/runs/28884c9b22dd4f1a981ccc92daca1d10\n",
      "🧪 View experiment at: https://dagshub.com/dushyanth9652narravula/dnarravu_NYC_Yellow_Cab_Taxi_Project.mlflow/#/experiments/4\n"
     ]
    },
    {
     "data": {
      "text/plain": [
       "<mlflow.models.model.ModelInfo at 0x2749c646290>"
      ]
     },
     "execution_count": 16,
     "metadata": {},
     "output_type": "execute_result"
    }
   ],
   "source": [
    "log_model_to_mlflow(model, X_test, \"BaselineModelPreviousHourCitiBike\", \"mean_absolute_error\", score=test_mae)"
   ]
  },
  {
   "cell_type": "code",
   "execution_count": 17,
   "id": "12578fd0",
   "metadata": {},
   "outputs": [],
   "source": [
    "import numpy as np\n",
    "\n",
    "class BaselineModelPreviousWeekCitiBike:\n",
    "\n",
    "    def fit(self, X_train: pd.DataFrame, y_train: pd.Series):\n",
    "        pass\n",
    "\n",
    "    def predict(self, X_test: pd.DataFrame) -> np.array:\n",
    "        return X_test[f\"rides_t-{7*24}\"]"
   ]
  },
  {
   "cell_type": "code",
   "execution_count": 18,
   "id": "0742ef72",
   "metadata": {},
   "outputs": [],
   "source": [
    "model = BaselineModelPreviousWeekCitiBike()\n",
    "predictions = model.predict(X_test)"
   ]
  },
  {
   "cell_type": "code",
   "execution_count": 19,
   "id": "61b26f93",
   "metadata": {},
   "outputs": [
    {
     "name": "stdout",
     "output_type": "stream",
     "text": [
      "0.5926\n"
     ]
    }
   ],
   "source": [
    "test_mae = mean_absolute_error(y_test, predictions)\n",
    "print(f\"{test_mae:.4f}\")"
   ]
  },
  {
   "cell_type": "code",
   "execution_count": 20,
   "id": "a736deed",
   "metadata": {},
   "outputs": [
    {
     "name": "stderr",
     "output_type": "stream",
     "text": [
      "2025/05/10 10:40:28 INFO mlflow.tracking.fluent: Experiment with name 'BaselineModelPreviousWeekCitiBike' does not exist. Creating a new experiment.\n",
      "INFO:src.experiments_utils:Experiment set to: BaselineModelPreviousWeekCitiBike\n",
      "INFO:src.experiments_utils:Logged mean_absolute_error: 0.5926146193771626\n",
      "f:\\DushyanthData\\Applied_Machine_Learning\\Final_Project\\finalProject\\lib\\site-packages\\mlflow\\types\\utils.py:452: UserWarning: Hint: Inferred schema contains integer column(s). Integer columns in Python cannot represent missing values. If your input data contains missing values at inference time, it will be encoded as floats and will cause a schema enforcement error. The best way to avoid this problem is to infer the model schema based on a realistic data sample (training dataset) that includes missing values. Alternatively, you can declare integer columns as doubles (float64) whenever these columns may have missing values. See `Handling Integers With Missing Values <https://www.mlflow.org/docs/latest/models.html#handling-integers-with-missing-values>`_ for more details.\n",
      "  warnings.warn(\n",
      "INFO:src.experiments_utils:Model signature inferred.\n"
     ]
    },
    {
     "data": {
      "application/vnd.jupyter.widget-view+json": {
       "model_id": "7832eef4b67f4f12b06154eba7d477b3",
       "version_major": 2,
       "version_minor": 0
      },
      "text/plain": [
       "Downloading artifacts:   0%|          | 0/7 [00:00<?, ?it/s]"
      ]
     },
     "metadata": {},
     "output_type": "display_data"
    },
    {
     "name": "stderr",
     "output_type": "stream",
     "text": [
      "WARNING:urllib3.connectionpool:Retrying (Retry(total=6, connect=7, read=7, redirect=7, status=7)) after connection broken by 'SSLEOFError(8, 'EOF occurred in violation of protocol (_ssl.c:2384)')': /dushyanth9652narravula/dnarravu_NYC_Yellow_Cab_Taxi_Project.mlflow/api/2.0/mlflow-artifacts/artifacts/2527611119394095b31e6ba3d425065c/3ea9f9a483994455a29c536a8f925aed/artifacts/model_artifact/serving_input_example.json\n",
      "Successfully registered model 'BaselineModelPreviousWeekCitiBike'.\n",
      "2025/05/10 10:45:23 INFO mlflow.store.model_registry.abstract_store: Waiting up to 300 seconds for model version to finish creation. Model name: BaselineModelPreviousWeekCitiBike, version 1\n",
      "Created version '1' of model 'BaselineModelPreviousWeekCitiBike'.\n",
      "INFO:src.experiments_utils:Model logged with name: BaselineModelPreviousWeekCitiBike\n"
     ]
    },
    {
     "name": "stdout",
     "output_type": "stream",
     "text": [
      "🏃 View run unleashed-moose-194 at: https://dagshub.com/dushyanth9652narravula/dnarravu_NYC_Yellow_Cab_Taxi_Project.mlflow/#/experiments/5/runs/3ea9f9a483994455a29c536a8f925aed\n",
      "🧪 View experiment at: https://dagshub.com/dushyanth9652narravula/dnarravu_NYC_Yellow_Cab_Taxi_Project.mlflow/#/experiments/5\n"
     ]
    },
    {
     "data": {
      "text/plain": [
       "<mlflow.models.model.ModelInfo at 0x2749ddc3730>"
      ]
     },
     "execution_count": 20,
     "metadata": {},
     "output_type": "execute_result"
    }
   ],
   "source": [
    "log_model_to_mlflow(model, X_test, \"BaselineModelPreviousWeekCitiBike\", \"mean_absolute_error\", score=test_mae)"
   ]
  },
  {
   "cell_type": "code",
   "execution_count": 21,
   "id": "ee6c6a4a",
   "metadata": {},
   "outputs": [],
   "source": [
    "import numpy as np\n",
    "import pandas as pd\n",
    "\n",
    "class BaselineModelLast4WeeksCitiBike:\n",
    "    \"\"\"\n",
    "    A baseline model that predicts the average of the last 4 weeks (28 days)\n",
    "    for each test instance.\n",
    "    \"\"\"\n",
    "\n",
    "    def fit(self, X_train: pd.DataFrame, y_train: pd.Series):\n",
    "        \"\"\"\n",
    "        The fit method is not used in this baseline model as it does not learn\n",
    "        from the training data.\n",
    "        \"\"\"\n",
    "        pass\n",
    "\n",
    "    def predict(self, X_test: pd.DataFrame) -> np.array:\n",
    "        \"\"\"\n",
    "        Predicts the average of the last 4 weeks (28 days) for each test instance.\n",
    "\n",
    "        Parameters:\n",
    "            X_test (pd.DataFrame): The test DataFrame containing lagged features\n",
    "                                   (e.g., rides_t-{7*24}, rides_t-{14*24}, etc.).\n",
    "\n",
    "        Returns:\n",
    "            np.array: An array of predictions based on the average of the last 4 weeks.\n",
    "        \"\"\"\n",
    "        # Define the columns for the last 4 weeks\n",
    "        last_4_weeks_columns = [\n",
    "            f\"rides_t-{7*24}\",  # 1 week ago\n",
    "            f\"rides_t-{14*24}\", # 2 weeks ago\n",
    "            f\"rides_t-{21*24}\", # 3 weeks ago\n",
    "            f\"rides_t-{28*24}\"  # 4 weeks ago\n",
    "        ]\n",
    "\n",
    "        # Ensure the required columns exist in the test DataFrame\n",
    "        for col in last_4_weeks_columns:\n",
    "            if col not in X_test.columns:\n",
    "                raise ValueError(f\"Missing required column: {col}\")\n",
    "\n",
    "        # Calculate the average of the last 4 weeks\n",
    "        predictions = X_test[last_4_weeks_columns].mean(axis=1)\n",
    "\n",
    "        return predictions.to_numpy()"
   ]
  },
  {
   "cell_type": "code",
   "execution_count": 22,
   "id": "766f8b6d",
   "metadata": {},
   "outputs": [],
   "source": [
    "model = BaselineModelLast4WeeksCitiBike()\n",
    "predictions = model.predict(X_test)"
   ]
  },
  {
   "cell_type": "code",
   "execution_count": 23,
   "id": "c1546ec4",
   "metadata": {},
   "outputs": [
    {
     "name": "stdout",
     "output_type": "stream",
     "text": [
      "0.4983\n"
     ]
    }
   ],
   "source": [
    "test_mae = mean_absolute_error(y_test, predictions)\n",
    "print(f\"{test_mae:.4f}\")"
   ]
  },
  {
   "cell_type": "code",
   "execution_count": 24,
   "id": "28120102",
   "metadata": {},
   "outputs": [
    {
     "name": "stderr",
     "output_type": "stream",
     "text": [
      "2025/05/10 10:46:34 INFO mlflow.tracking.fluent: Experiment with name 'BaselineModelLast4WeeksCitiBike' does not exist. Creating a new experiment.\n",
      "INFO:src.experiments_utils:Experiment set to: BaselineModelLast4WeeksCitiBike\n",
      "INFO:src.experiments_utils:Logged mean_absolute_error: 0.4982563797577855\n",
      "f:\\DushyanthData\\Applied_Machine_Learning\\Final_Project\\finalProject\\lib\\site-packages\\mlflow\\types\\utils.py:452: UserWarning: Hint: Inferred schema contains integer column(s). Integer columns in Python cannot represent missing values. If your input data contains missing values at inference time, it will be encoded as floats and will cause a schema enforcement error. The best way to avoid this problem is to infer the model schema based on a realistic data sample (training dataset) that includes missing values. Alternatively, you can declare integer columns as doubles (float64) whenever these columns may have missing values. See `Handling Integers With Missing Values <https://www.mlflow.org/docs/latest/models.html#handling-integers-with-missing-values>`_ for more details.\n",
      "  warnings.warn(\n",
      "INFO:src.experiments_utils:Model signature inferred.\n"
     ]
    },
    {
     "data": {
      "application/vnd.jupyter.widget-view+json": {
       "model_id": "c471257b75a8496a96f8682c136957fc",
       "version_major": 2,
       "version_minor": 0
      },
      "text/plain": [
       "Downloading artifacts:   0%|          | 0/7 [00:00<?, ?it/s]"
      ]
     },
     "metadata": {},
     "output_type": "display_data"
    },
    {
     "name": "stderr",
     "output_type": "stream",
     "text": [
      "Successfully registered model 'BaselineModelLast4WeeksCitiBike'.\n",
      "2025/05/10 10:50:43 INFO mlflow.store.model_registry.abstract_store: Waiting up to 300 seconds for model version to finish creation. Model name: BaselineModelLast4WeeksCitiBike, version 1\n",
      "Created version '1' of model 'BaselineModelLast4WeeksCitiBike'.\n",
      "INFO:src.experiments_utils:Model logged with name: BaselineModelLast4WeeksCitiBike\n"
     ]
    },
    {
     "name": "stdout",
     "output_type": "stream",
     "text": [
      "🏃 View run clean-whale-673 at: https://dagshub.com/dushyanth9652narravula/dnarravu_NYC_Yellow_Cab_Taxi_Project.mlflow/#/experiments/6/runs/92ffbd45fddf4581bea1e0db76e88476\n",
      "🧪 View experiment at: https://dagshub.com/dushyanth9652narravula/dnarravu_NYC_Yellow_Cab_Taxi_Project.mlflow/#/experiments/6\n"
     ]
    },
    {
     "data": {
      "text/plain": [
       "<mlflow.models.model.ModelInfo at 0x2749ca85e10>"
      ]
     },
     "execution_count": 24,
     "metadata": {},
     "output_type": "execute_result"
    }
   ],
   "source": [
    "log_model_to_mlflow(model, X_test, \"BaselineModelLast4WeeksCitiBike\", \"mean_absolute_error\", score=test_mae)"
   ]
  },
  {
   "cell_type": "code",
   "execution_count": 25,
   "id": "7aae91fa",
   "metadata": {},
   "outputs": [
    {
     "data": {
      "text/html": [
       "<div>\n",
       "<style scoped>\n",
       "    .dataframe tbody tr th:only-of-type {\n",
       "        vertical-align: middle;\n",
       "    }\n",
       "\n",
       "    .dataframe tbody tr th {\n",
       "        vertical-align: top;\n",
       "    }\n",
       "\n",
       "    .dataframe thead th {\n",
       "        text-align: right;\n",
       "    }\n",
       "</style>\n",
       "<table border=\"1\" class=\"dataframe\">\n",
       "  <thead>\n",
       "    <tr style=\"text-align: right;\">\n",
       "      <th></th>\n",
       "      <th>rides_t-672</th>\n",
       "      <th>rides_t-671</th>\n",
       "      <th>rides_t-670</th>\n",
       "      <th>rides_t-669</th>\n",
       "      <th>rides_t-668</th>\n",
       "      <th>rides_t-667</th>\n",
       "      <th>rides_t-666</th>\n",
       "      <th>rides_t-665</th>\n",
       "      <th>rides_t-664</th>\n",
       "      <th>rides_t-663</th>\n",
       "      <th>...</th>\n",
       "      <th>rides_t-8</th>\n",
       "      <th>rides_t-7</th>\n",
       "      <th>rides_t-6</th>\n",
       "      <th>rides_t-5</th>\n",
       "      <th>rides_t-4</th>\n",
       "      <th>rides_t-3</th>\n",
       "      <th>rides_t-2</th>\n",
       "      <th>rides_t-1</th>\n",
       "      <th>pickup_hour</th>\n",
       "      <th>pickup_location_id</th>\n",
       "    </tr>\n",
       "  </thead>\n",
       "  <tbody>\n",
       "    <tr>\n",
       "      <th>18003</th>\n",
       "      <td>2</td>\n",
       "      <td>1</td>\n",
       "      <td>1</td>\n",
       "      <td>0</td>\n",
       "      <td>1</td>\n",
       "      <td>1</td>\n",
       "      <td>6</td>\n",
       "      <td>11</td>\n",
       "      <td>32</td>\n",
       "      <td>19</td>\n",
       "      <td>...</td>\n",
       "      <td>45</td>\n",
       "      <td>55</td>\n",
       "      <td>53</td>\n",
       "      <td>34</td>\n",
       "      <td>27</td>\n",
       "      <td>17</td>\n",
       "      <td>8</td>\n",
       "      <td>6</td>\n",
       "      <td>2024-03-15</td>\n",
       "      <td>6140.05</td>\n",
       "    </tr>\n",
       "    <tr>\n",
       "      <th>18004</th>\n",
       "      <td>4</td>\n",
       "      <td>0</td>\n",
       "      <td>0</td>\n",
       "      <td>0</td>\n",
       "      <td>1</td>\n",
       "      <td>0</td>\n",
       "      <td>0</td>\n",
       "      <td>3</td>\n",
       "      <td>6</td>\n",
       "      <td>2</td>\n",
       "      <td>...</td>\n",
       "      <td>31</td>\n",
       "      <td>56</td>\n",
       "      <td>48</td>\n",
       "      <td>28</td>\n",
       "      <td>25</td>\n",
       "      <td>11</td>\n",
       "      <td>6</td>\n",
       "      <td>7</td>\n",
       "      <td>2024-03-16</td>\n",
       "      <td>6140.05</td>\n",
       "    </tr>\n",
       "    <tr>\n",
       "      <th>18005</th>\n",
       "      <td>1</td>\n",
       "      <td>0</td>\n",
       "      <td>0</td>\n",
       "      <td>1</td>\n",
       "      <td>0</td>\n",
       "      <td>1</td>\n",
       "      <td>2</td>\n",
       "      <td>2</td>\n",
       "      <td>4</td>\n",
       "      <td>8</td>\n",
       "      <td>...</td>\n",
       "      <td>38</td>\n",
       "      <td>32</td>\n",
       "      <td>25</td>\n",
       "      <td>18</td>\n",
       "      <td>15</td>\n",
       "      <td>9</td>\n",
       "      <td>4</td>\n",
       "      <td>2</td>\n",
       "      <td>2024-03-17</td>\n",
       "      <td>6140.05</td>\n",
       "    </tr>\n",
       "    <tr>\n",
       "      <th>18006</th>\n",
       "      <td>2</td>\n",
       "      <td>0</td>\n",
       "      <td>0</td>\n",
       "      <td>0</td>\n",
       "      <td>0</td>\n",
       "      <td>1</td>\n",
       "      <td>0</td>\n",
       "      <td>5</td>\n",
       "      <td>7</td>\n",
       "      <td>10</td>\n",
       "      <td>...</td>\n",
       "      <td>34</td>\n",
       "      <td>39</td>\n",
       "      <td>30</td>\n",
       "      <td>21</td>\n",
       "      <td>13</td>\n",
       "      <td>8</td>\n",
       "      <td>6</td>\n",
       "      <td>2</td>\n",
       "      <td>2024-03-18</td>\n",
       "      <td>6140.05</td>\n",
       "    </tr>\n",
       "    <tr>\n",
       "      <th>18007</th>\n",
       "      <td>1</td>\n",
       "      <td>1</td>\n",
       "      <td>1</td>\n",
       "      <td>0</td>\n",
       "      <td>0</td>\n",
       "      <td>0</td>\n",
       "      <td>2</td>\n",
       "      <td>14</td>\n",
       "      <td>31</td>\n",
       "      <td>14</td>\n",
       "      <td>...</td>\n",
       "      <td>29</td>\n",
       "      <td>37</td>\n",
       "      <td>36</td>\n",
       "      <td>34</td>\n",
       "      <td>16</td>\n",
       "      <td>14</td>\n",
       "      <td>3</td>\n",
       "      <td>2</td>\n",
       "      <td>2024-03-19</td>\n",
       "      <td>6140.05</td>\n",
       "    </tr>\n",
       "    <tr>\n",
       "      <th>18008</th>\n",
       "      <td>2</td>\n",
       "      <td>0</td>\n",
       "      <td>0</td>\n",
       "      <td>0</td>\n",
       "      <td>0</td>\n",
       "      <td>4</td>\n",
       "      <td>7</td>\n",
       "      <td>23</td>\n",
       "      <td>34</td>\n",
       "      <td>25</td>\n",
       "      <td>...</td>\n",
       "      <td>29</td>\n",
       "      <td>45</td>\n",
       "      <td>43</td>\n",
       "      <td>37</td>\n",
       "      <td>28</td>\n",
       "      <td>11</td>\n",
       "      <td>4</td>\n",
       "      <td>2</td>\n",
       "      <td>2024-03-20</td>\n",
       "      <td>6140.05</td>\n",
       "    </tr>\n",
       "    <tr>\n",
       "      <th>18009</th>\n",
       "      <td>1</td>\n",
       "      <td>1</td>\n",
       "      <td>0</td>\n",
       "      <td>0</td>\n",
       "      <td>0</td>\n",
       "      <td>3</td>\n",
       "      <td>8</td>\n",
       "      <td>13</td>\n",
       "      <td>23</td>\n",
       "      <td>21</td>\n",
       "      <td>...</td>\n",
       "      <td>23</td>\n",
       "      <td>30</td>\n",
       "      <td>40</td>\n",
       "      <td>26</td>\n",
       "      <td>24</td>\n",
       "      <td>10</td>\n",
       "      <td>4</td>\n",
       "      <td>3</td>\n",
       "      <td>2024-03-21</td>\n",
       "      <td>6140.05</td>\n",
       "    </tr>\n",
       "    <tr>\n",
       "      <th>18010</th>\n",
       "      <td>0</td>\n",
       "      <td>0</td>\n",
       "      <td>0</td>\n",
       "      <td>0</td>\n",
       "      <td>0</td>\n",
       "      <td>0</td>\n",
       "      <td>5</td>\n",
       "      <td>4</td>\n",
       "      <td>33</td>\n",
       "      <td>22</td>\n",
       "      <td>...</td>\n",
       "      <td>45</td>\n",
       "      <td>35</td>\n",
       "      <td>41</td>\n",
       "      <td>34</td>\n",
       "      <td>14</td>\n",
       "      <td>11</td>\n",
       "      <td>6</td>\n",
       "      <td>6</td>\n",
       "      <td>2024-03-22</td>\n",
       "      <td>6140.05</td>\n",
       "    </tr>\n",
       "    <tr>\n",
       "      <th>18011</th>\n",
       "      <td>1</td>\n",
       "      <td>1</td>\n",
       "      <td>3</td>\n",
       "      <td>1</td>\n",
       "      <td>0</td>\n",
       "      <td>1</td>\n",
       "      <td>2</td>\n",
       "      <td>2</td>\n",
       "      <td>6</td>\n",
       "      <td>13</td>\n",
       "      <td>...</td>\n",
       "      <td>32</td>\n",
       "      <td>41</td>\n",
       "      <td>35</td>\n",
       "      <td>24</td>\n",
       "      <td>15</td>\n",
       "      <td>11</td>\n",
       "      <td>5</td>\n",
       "      <td>5</td>\n",
       "      <td>2024-03-23</td>\n",
       "      <td>6140.05</td>\n",
       "    </tr>\n",
       "    <tr>\n",
       "      <th>18012</th>\n",
       "      <td>2</td>\n",
       "      <td>3</td>\n",
       "      <td>3</td>\n",
       "      <td>0</td>\n",
       "      <td>1</td>\n",
       "      <td>0</td>\n",
       "      <td>0</td>\n",
       "      <td>3</td>\n",
       "      <td>9</td>\n",
       "      <td>8</td>\n",
       "      <td>...</td>\n",
       "      <td>2</td>\n",
       "      <td>8</td>\n",
       "      <td>17</td>\n",
       "      <td>12</td>\n",
       "      <td>12</td>\n",
       "      <td>2</td>\n",
       "      <td>7</td>\n",
       "      <td>7</td>\n",
       "      <td>2024-03-24</td>\n",
       "      <td>6140.05</td>\n",
       "    </tr>\n",
       "    <tr>\n",
       "      <th>18013</th>\n",
       "      <td>0</td>\n",
       "      <td>0</td>\n",
       "      <td>0</td>\n",
       "      <td>0</td>\n",
       "      <td>0</td>\n",
       "      <td>3</td>\n",
       "      <td>3</td>\n",
       "      <td>12</td>\n",
       "      <td>36</td>\n",
       "      <td>12</td>\n",
       "      <td>...</td>\n",
       "      <td>31</td>\n",
       "      <td>38</td>\n",
       "      <td>42</td>\n",
       "      <td>24</td>\n",
       "      <td>16</td>\n",
       "      <td>6</td>\n",
       "      <td>4</td>\n",
       "      <td>2</td>\n",
       "      <td>2024-03-25</td>\n",
       "      <td>6140.05</td>\n",
       "    </tr>\n",
       "    <tr>\n",
       "      <th>18014</th>\n",
       "      <td>4</td>\n",
       "      <td>1</td>\n",
       "      <td>0</td>\n",
       "      <td>1</td>\n",
       "      <td>0</td>\n",
       "      <td>2</td>\n",
       "      <td>6</td>\n",
       "      <td>10</td>\n",
       "      <td>36</td>\n",
       "      <td>23</td>\n",
       "      <td>...</td>\n",
       "      <td>32</td>\n",
       "      <td>59</td>\n",
       "      <td>44</td>\n",
       "      <td>45</td>\n",
       "      <td>27</td>\n",
       "      <td>14</td>\n",
       "      <td>9</td>\n",
       "      <td>3</td>\n",
       "      <td>2024-03-26</td>\n",
       "      <td>6140.05</td>\n",
       "    </tr>\n",
       "    <tr>\n",
       "      <th>18015</th>\n",
       "      <td>3</td>\n",
       "      <td>0</td>\n",
       "      <td>1</td>\n",
       "      <td>0</td>\n",
       "      <td>0</td>\n",
       "      <td>1</td>\n",
       "      <td>1</td>\n",
       "      <td>15</td>\n",
       "      <td>17</td>\n",
       "      <td>19</td>\n",
       "      <td>...</td>\n",
       "      <td>41</td>\n",
       "      <td>56</td>\n",
       "      <td>64</td>\n",
       "      <td>38</td>\n",
       "      <td>32</td>\n",
       "      <td>5</td>\n",
       "      <td>8</td>\n",
       "      <td>4</td>\n",
       "      <td>2024-03-27</td>\n",
       "      <td>6140.05</td>\n",
       "    </tr>\n",
       "    <tr>\n",
       "      <th>18016</th>\n",
       "      <td>1</td>\n",
       "      <td>0</td>\n",
       "      <td>0</td>\n",
       "      <td>0</td>\n",
       "      <td>0</td>\n",
       "      <td>1</td>\n",
       "      <td>4</td>\n",
       "      <td>8</td>\n",
       "      <td>21</td>\n",
       "      <td>18</td>\n",
       "      <td>...</td>\n",
       "      <td>34</td>\n",
       "      <td>36</td>\n",
       "      <td>34</td>\n",
       "      <td>31</td>\n",
       "      <td>24</td>\n",
       "      <td>10</td>\n",
       "      <td>6</td>\n",
       "      <td>0</td>\n",
       "      <td>2024-03-28</td>\n",
       "      <td>6140.05</td>\n",
       "    </tr>\n",
       "    <tr>\n",
       "      <th>18017</th>\n",
       "      <td>0</td>\n",
       "      <td>1</td>\n",
       "      <td>0</td>\n",
       "      <td>0</td>\n",
       "      <td>1</td>\n",
       "      <td>2</td>\n",
       "      <td>3</td>\n",
       "      <td>5</td>\n",
       "      <td>19</td>\n",
       "      <td>17</td>\n",
       "      <td>...</td>\n",
       "      <td>11</td>\n",
       "      <td>20</td>\n",
       "      <td>22</td>\n",
       "      <td>17</td>\n",
       "      <td>7</td>\n",
       "      <td>6</td>\n",
       "      <td>4</td>\n",
       "      <td>3</td>\n",
       "      <td>2024-03-29</td>\n",
       "      <td>6140.05</td>\n",
       "    </tr>\n",
       "    <tr>\n",
       "      <th>18018</th>\n",
       "      <td>0</td>\n",
       "      <td>1</td>\n",
       "      <td>3</td>\n",
       "      <td>1</td>\n",
       "      <td>0</td>\n",
       "      <td>1</td>\n",
       "      <td>0</td>\n",
       "      <td>0</td>\n",
       "      <td>2</td>\n",
       "      <td>4</td>\n",
       "      <td>...</td>\n",
       "      <td>31</td>\n",
       "      <td>40</td>\n",
       "      <td>43</td>\n",
       "      <td>28</td>\n",
       "      <td>22</td>\n",
       "      <td>7</td>\n",
       "      <td>6</td>\n",
       "      <td>1</td>\n",
       "      <td>2024-03-30</td>\n",
       "      <td>6140.05</td>\n",
       "    </tr>\n",
       "    <tr>\n",
       "      <th>18019</th>\n",
       "      <td>0</td>\n",
       "      <td>3</td>\n",
       "      <td>0</td>\n",
       "      <td>1</td>\n",
       "      <td>0</td>\n",
       "      <td>0</td>\n",
       "      <td>0</td>\n",
       "      <td>1</td>\n",
       "      <td>16</td>\n",
       "      <td>22</td>\n",
       "      <td>...</td>\n",
       "      <td>31</td>\n",
       "      <td>35</td>\n",
       "      <td>37</td>\n",
       "      <td>23</td>\n",
       "      <td>10</td>\n",
       "      <td>11</td>\n",
       "      <td>5</td>\n",
       "      <td>4</td>\n",
       "      <td>2024-03-31</td>\n",
       "      <td>6140.05</td>\n",
       "    </tr>\n",
       "  </tbody>\n",
       "</table>\n",
       "<p>17 rows × 674 columns</p>\n",
       "</div>"
      ],
      "text/plain": [
       "       rides_t-672  rides_t-671  rides_t-670  rides_t-669  rides_t-668  \\\n",
       "18003            2            1            1            0            1   \n",
       "18004            4            0            0            0            1   \n",
       "18005            1            0            0            1            0   \n",
       "18006            2            0            0            0            0   \n",
       "18007            1            1            1            0            0   \n",
       "18008            2            0            0            0            0   \n",
       "18009            1            1            0            0            0   \n",
       "18010            0            0            0            0            0   \n",
       "18011            1            1            3            1            0   \n",
       "18012            2            3            3            0            1   \n",
       "18013            0            0            0            0            0   \n",
       "18014            4            1            0            1            0   \n",
       "18015            3            0            1            0            0   \n",
       "18016            1            0            0            0            0   \n",
       "18017            0            1            0            0            1   \n",
       "18018            0            1            3            1            0   \n",
       "18019            0            3            0            1            0   \n",
       "\n",
       "       rides_t-667  rides_t-666  rides_t-665  rides_t-664  rides_t-663  ...  \\\n",
       "18003            1            6           11           32           19  ...   \n",
       "18004            0            0            3            6            2  ...   \n",
       "18005            1            2            2            4            8  ...   \n",
       "18006            1            0            5            7           10  ...   \n",
       "18007            0            2           14           31           14  ...   \n",
       "18008            4            7           23           34           25  ...   \n",
       "18009            3            8           13           23           21  ...   \n",
       "18010            0            5            4           33           22  ...   \n",
       "18011            1            2            2            6           13  ...   \n",
       "18012            0            0            3            9            8  ...   \n",
       "18013            3            3           12           36           12  ...   \n",
       "18014            2            6           10           36           23  ...   \n",
       "18015            1            1           15           17           19  ...   \n",
       "18016            1            4            8           21           18  ...   \n",
       "18017            2            3            5           19           17  ...   \n",
       "18018            1            0            0            2            4  ...   \n",
       "18019            0            0            1           16           22  ...   \n",
       "\n",
       "       rides_t-8  rides_t-7  rides_t-6  rides_t-5  rides_t-4  rides_t-3  \\\n",
       "18003         45         55         53         34         27         17   \n",
       "18004         31         56         48         28         25         11   \n",
       "18005         38         32         25         18         15          9   \n",
       "18006         34         39         30         21         13          8   \n",
       "18007         29         37         36         34         16         14   \n",
       "18008         29         45         43         37         28         11   \n",
       "18009         23         30         40         26         24         10   \n",
       "18010         45         35         41         34         14         11   \n",
       "18011         32         41         35         24         15         11   \n",
       "18012          2          8         17         12         12          2   \n",
       "18013         31         38         42         24         16          6   \n",
       "18014         32         59         44         45         27         14   \n",
       "18015         41         56         64         38         32          5   \n",
       "18016         34         36         34         31         24         10   \n",
       "18017         11         20         22         17          7          6   \n",
       "18018         31         40         43         28         22          7   \n",
       "18019         31         35         37         23         10         11   \n",
       "\n",
       "       rides_t-2  rides_t-1  pickup_hour  pickup_location_id  \n",
       "18003          8          6   2024-03-15             6140.05  \n",
       "18004          6          7   2024-03-16             6140.05  \n",
       "18005          4          2   2024-03-17             6140.05  \n",
       "18006          6          2   2024-03-18             6140.05  \n",
       "18007          3          2   2024-03-19             6140.05  \n",
       "18008          4          2   2024-03-20             6140.05  \n",
       "18009          4          3   2024-03-21             6140.05  \n",
       "18010          6          6   2024-03-22             6140.05  \n",
       "18011          5          5   2024-03-23             6140.05  \n",
       "18012          7          7   2024-03-24             6140.05  \n",
       "18013          4          2   2024-03-25             6140.05  \n",
       "18014          9          3   2024-03-26             6140.05  \n",
       "18015          8          4   2024-03-27             6140.05  \n",
       "18016          6          0   2024-03-28             6140.05  \n",
       "18017          4          3   2024-03-29             6140.05  \n",
       "18018          6          1   2024-03-30             6140.05  \n",
       "18019          5          4   2024-03-31             6140.05  \n",
       "\n",
       "[17 rows x 674 columns]"
      ]
     },
     "execution_count": 25,
     "metadata": {},
     "output_type": "execute_result"
    }
   ],
   "source": [
    "X_test[X_test['pickup_location_id']==\"6140.05\"] "
   ]
  },
  {
   "cell_type": "code",
   "execution_count": 26,
   "id": "cd5b2232",
   "metadata": {},
   "outputs": [
    {
     "data": {
      "application/vnd.plotly.v1+json": {
       "config": {
        "plotlyServerURL": "https://plot.ly"
       },
       "data": [
        {
         "hovertemplate": "Time=%{x}<br>Ride Counts=%{y}<extra></extra>",
         "legendgroup": "",
         "line": {
          "color": "#636efa",
          "dash": "solid"
         },
         "marker": {
          "symbol": "circle"
         },
         "mode": "lines+markers",
         "name": "",
         "orientation": "v",
         "showlegend": false,
         "type": "scatter",
         "x": [
          "2024-02-16T00:00:00.000000000",
          "2024-02-16T01:00:00.000000000",
          "2024-02-16T02:00:00.000000000",
          "2024-02-16T03:00:00.000000000",
          "2024-02-16T04:00:00.000000000",
          "2024-02-16T05:00:00.000000000",
          "2024-02-16T06:00:00.000000000",
          "2024-02-16T07:00:00.000000000",
          "2024-02-16T08:00:00.000000000",
          "2024-02-16T09:00:00.000000000",
          "2024-02-16T10:00:00.000000000",
          "2024-02-16T11:00:00.000000000",
          "2024-02-16T12:00:00.000000000",
          "2024-02-16T13:00:00.000000000",
          "2024-02-16T14:00:00.000000000",
          "2024-02-16T15:00:00.000000000",
          "2024-02-16T16:00:00.000000000",
          "2024-02-16T17:00:00.000000000",
          "2024-02-16T18:00:00.000000000",
          "2024-02-16T19:00:00.000000000",
          "2024-02-16T20:00:00.000000000",
          "2024-02-16T21:00:00.000000000",
          "2024-02-16T22:00:00.000000000",
          "2024-02-16T23:00:00.000000000",
          "2024-02-17T00:00:00.000000000",
          "2024-02-17T01:00:00.000000000",
          "2024-02-17T02:00:00.000000000",
          "2024-02-17T03:00:00.000000000",
          "2024-02-17T04:00:00.000000000",
          "2024-02-17T05:00:00.000000000",
          "2024-02-17T06:00:00.000000000",
          "2024-02-17T07:00:00.000000000",
          "2024-02-17T08:00:00.000000000",
          "2024-02-17T09:00:00.000000000",
          "2024-02-17T10:00:00.000000000",
          "2024-02-17T11:00:00.000000000",
          "2024-02-17T12:00:00.000000000",
          "2024-02-17T13:00:00.000000000",
          "2024-02-17T14:00:00.000000000",
          "2024-02-17T15:00:00.000000000",
          "2024-02-17T16:00:00.000000000",
          "2024-02-17T17:00:00.000000000",
          "2024-02-17T18:00:00.000000000",
          "2024-02-17T19:00:00.000000000",
          "2024-02-17T20:00:00.000000000",
          "2024-02-17T21:00:00.000000000",
          "2024-02-17T22:00:00.000000000",
          "2024-02-17T23:00:00.000000000",
          "2024-02-18T00:00:00.000000000",
          "2024-02-18T01:00:00.000000000",
          "2024-02-18T02:00:00.000000000",
          "2024-02-18T03:00:00.000000000",
          "2024-02-18T04:00:00.000000000",
          "2024-02-18T05:00:00.000000000",
          "2024-02-18T06:00:00.000000000",
          "2024-02-18T07:00:00.000000000",
          "2024-02-18T08:00:00.000000000",
          "2024-02-18T09:00:00.000000000",
          "2024-02-18T10:00:00.000000000",
          "2024-02-18T11:00:00.000000000",
          "2024-02-18T12:00:00.000000000",
          "2024-02-18T13:00:00.000000000",
          "2024-02-18T14:00:00.000000000",
          "2024-02-18T15:00:00.000000000",
          "2024-02-18T16:00:00.000000000",
          "2024-02-18T17:00:00.000000000",
          "2024-02-18T18:00:00.000000000",
          "2024-02-18T19:00:00.000000000",
          "2024-02-18T20:00:00.000000000",
          "2024-02-18T21:00:00.000000000",
          "2024-02-18T22:00:00.000000000",
          "2024-02-18T23:00:00.000000000",
          "2024-02-19T00:00:00.000000000",
          "2024-02-19T01:00:00.000000000",
          "2024-02-19T02:00:00.000000000",
          "2024-02-19T03:00:00.000000000",
          "2024-02-19T04:00:00.000000000",
          "2024-02-19T05:00:00.000000000",
          "2024-02-19T06:00:00.000000000",
          "2024-02-19T07:00:00.000000000",
          "2024-02-19T08:00:00.000000000",
          "2024-02-19T09:00:00.000000000",
          "2024-02-19T10:00:00.000000000",
          "2024-02-19T11:00:00.000000000",
          "2024-02-19T12:00:00.000000000",
          "2024-02-19T13:00:00.000000000",
          "2024-02-19T14:00:00.000000000",
          "2024-02-19T15:00:00.000000000",
          "2024-02-19T16:00:00.000000000",
          "2024-02-19T17:00:00.000000000",
          "2024-02-19T18:00:00.000000000",
          "2024-02-19T19:00:00.000000000",
          "2024-02-19T20:00:00.000000000",
          "2024-02-19T21:00:00.000000000",
          "2024-02-19T22:00:00.000000000",
          "2024-02-19T23:00:00.000000000",
          "2024-02-20T00:00:00.000000000",
          "2024-02-20T01:00:00.000000000",
          "2024-02-20T02:00:00.000000000",
          "2024-02-20T03:00:00.000000000",
          "2024-02-20T04:00:00.000000000",
          "2024-02-20T05:00:00.000000000",
          "2024-02-20T06:00:00.000000000",
          "2024-02-20T07:00:00.000000000",
          "2024-02-20T08:00:00.000000000",
          "2024-02-20T09:00:00.000000000",
          "2024-02-20T10:00:00.000000000",
          "2024-02-20T11:00:00.000000000",
          "2024-02-20T12:00:00.000000000",
          "2024-02-20T13:00:00.000000000",
          "2024-02-20T14:00:00.000000000",
          "2024-02-20T15:00:00.000000000",
          "2024-02-20T16:00:00.000000000",
          "2024-02-20T17:00:00.000000000",
          "2024-02-20T18:00:00.000000000",
          "2024-02-20T19:00:00.000000000",
          "2024-02-20T20:00:00.000000000",
          "2024-02-20T21:00:00.000000000",
          "2024-02-20T22:00:00.000000000",
          "2024-02-20T23:00:00.000000000",
          "2024-02-21T00:00:00.000000000",
          "2024-02-21T01:00:00.000000000",
          "2024-02-21T02:00:00.000000000",
          "2024-02-21T03:00:00.000000000",
          "2024-02-21T04:00:00.000000000",
          "2024-02-21T05:00:00.000000000",
          "2024-02-21T06:00:00.000000000",
          "2024-02-21T07:00:00.000000000",
          "2024-02-21T08:00:00.000000000",
          "2024-02-21T09:00:00.000000000",
          "2024-02-21T10:00:00.000000000",
          "2024-02-21T11:00:00.000000000",
          "2024-02-21T12:00:00.000000000",
          "2024-02-21T13:00:00.000000000",
          "2024-02-21T14:00:00.000000000",
          "2024-02-21T15:00:00.000000000",
          "2024-02-21T16:00:00.000000000",
          "2024-02-21T17:00:00.000000000",
          "2024-02-21T18:00:00.000000000",
          "2024-02-21T19:00:00.000000000",
          "2024-02-21T20:00:00.000000000",
          "2024-02-21T21:00:00.000000000",
          "2024-02-21T22:00:00.000000000",
          "2024-02-21T23:00:00.000000000",
          "2024-02-22T00:00:00.000000000",
          "2024-02-22T01:00:00.000000000",
          "2024-02-22T02:00:00.000000000",
          "2024-02-22T03:00:00.000000000",
          "2024-02-22T04:00:00.000000000",
          "2024-02-22T05:00:00.000000000",
          "2024-02-22T06:00:00.000000000",
          "2024-02-22T07:00:00.000000000",
          "2024-02-22T08:00:00.000000000",
          "2024-02-22T09:00:00.000000000",
          "2024-02-22T10:00:00.000000000",
          "2024-02-22T11:00:00.000000000",
          "2024-02-22T12:00:00.000000000",
          "2024-02-22T13:00:00.000000000",
          "2024-02-22T14:00:00.000000000",
          "2024-02-22T15:00:00.000000000",
          "2024-02-22T16:00:00.000000000",
          "2024-02-22T17:00:00.000000000",
          "2024-02-22T18:00:00.000000000",
          "2024-02-22T19:00:00.000000000",
          "2024-02-22T20:00:00.000000000",
          "2024-02-22T21:00:00.000000000",
          "2024-02-22T22:00:00.000000000",
          "2024-02-22T23:00:00.000000000",
          "2024-02-23T00:00:00.000000000",
          "2024-02-23T01:00:00.000000000",
          "2024-02-23T02:00:00.000000000",
          "2024-02-23T03:00:00.000000000",
          "2024-02-23T04:00:00.000000000",
          "2024-02-23T05:00:00.000000000",
          "2024-02-23T06:00:00.000000000",
          "2024-02-23T07:00:00.000000000",
          "2024-02-23T08:00:00.000000000",
          "2024-02-23T09:00:00.000000000",
          "2024-02-23T10:00:00.000000000",
          "2024-02-23T11:00:00.000000000",
          "2024-02-23T12:00:00.000000000",
          "2024-02-23T13:00:00.000000000",
          "2024-02-23T14:00:00.000000000",
          "2024-02-23T15:00:00.000000000",
          "2024-02-23T16:00:00.000000000",
          "2024-02-23T17:00:00.000000000",
          "2024-02-23T18:00:00.000000000",
          "2024-02-23T19:00:00.000000000",
          "2024-02-23T20:00:00.000000000",
          "2024-02-23T21:00:00.000000000",
          "2024-02-23T22:00:00.000000000",
          "2024-02-23T23:00:00.000000000",
          "2024-02-24T00:00:00.000000000",
          "2024-02-24T01:00:00.000000000",
          "2024-02-24T02:00:00.000000000",
          "2024-02-24T03:00:00.000000000",
          "2024-02-24T04:00:00.000000000",
          "2024-02-24T05:00:00.000000000",
          "2024-02-24T06:00:00.000000000",
          "2024-02-24T07:00:00.000000000",
          "2024-02-24T08:00:00.000000000",
          "2024-02-24T09:00:00.000000000",
          "2024-02-24T10:00:00.000000000",
          "2024-02-24T11:00:00.000000000",
          "2024-02-24T12:00:00.000000000",
          "2024-02-24T13:00:00.000000000",
          "2024-02-24T14:00:00.000000000",
          "2024-02-24T15:00:00.000000000",
          "2024-02-24T16:00:00.000000000",
          "2024-02-24T17:00:00.000000000",
          "2024-02-24T18:00:00.000000000",
          "2024-02-24T19:00:00.000000000",
          "2024-02-24T20:00:00.000000000",
          "2024-02-24T21:00:00.000000000",
          "2024-02-24T22:00:00.000000000",
          "2024-02-24T23:00:00.000000000",
          "2024-02-25T00:00:00.000000000",
          "2024-02-25T01:00:00.000000000",
          "2024-02-25T02:00:00.000000000",
          "2024-02-25T03:00:00.000000000",
          "2024-02-25T04:00:00.000000000",
          "2024-02-25T05:00:00.000000000",
          "2024-02-25T06:00:00.000000000",
          "2024-02-25T07:00:00.000000000",
          "2024-02-25T08:00:00.000000000",
          "2024-02-25T09:00:00.000000000",
          "2024-02-25T10:00:00.000000000",
          "2024-02-25T11:00:00.000000000",
          "2024-02-25T12:00:00.000000000",
          "2024-02-25T13:00:00.000000000",
          "2024-02-25T14:00:00.000000000",
          "2024-02-25T15:00:00.000000000",
          "2024-02-25T16:00:00.000000000",
          "2024-02-25T17:00:00.000000000",
          "2024-02-25T18:00:00.000000000",
          "2024-02-25T19:00:00.000000000",
          "2024-02-25T20:00:00.000000000",
          "2024-02-25T21:00:00.000000000",
          "2024-02-25T22:00:00.000000000",
          "2024-02-25T23:00:00.000000000",
          "2024-02-26T00:00:00.000000000",
          "2024-02-26T01:00:00.000000000",
          "2024-02-26T02:00:00.000000000",
          "2024-02-26T03:00:00.000000000",
          "2024-02-26T04:00:00.000000000",
          "2024-02-26T05:00:00.000000000",
          "2024-02-26T06:00:00.000000000",
          "2024-02-26T07:00:00.000000000",
          "2024-02-26T08:00:00.000000000",
          "2024-02-26T09:00:00.000000000",
          "2024-02-26T10:00:00.000000000",
          "2024-02-26T11:00:00.000000000",
          "2024-02-26T12:00:00.000000000",
          "2024-02-26T13:00:00.000000000",
          "2024-02-26T14:00:00.000000000",
          "2024-02-26T15:00:00.000000000",
          "2024-02-26T16:00:00.000000000",
          "2024-02-26T17:00:00.000000000",
          "2024-02-26T18:00:00.000000000",
          "2024-02-26T19:00:00.000000000",
          "2024-02-26T20:00:00.000000000",
          "2024-02-26T21:00:00.000000000",
          "2024-02-26T22:00:00.000000000",
          "2024-02-26T23:00:00.000000000",
          "2024-02-27T00:00:00.000000000",
          "2024-02-27T01:00:00.000000000",
          "2024-02-27T02:00:00.000000000",
          "2024-02-27T03:00:00.000000000",
          "2024-02-27T04:00:00.000000000",
          "2024-02-27T05:00:00.000000000",
          "2024-02-27T06:00:00.000000000",
          "2024-02-27T07:00:00.000000000",
          "2024-02-27T08:00:00.000000000",
          "2024-02-27T09:00:00.000000000",
          "2024-02-27T10:00:00.000000000",
          "2024-02-27T11:00:00.000000000",
          "2024-02-27T12:00:00.000000000",
          "2024-02-27T13:00:00.000000000",
          "2024-02-27T14:00:00.000000000",
          "2024-02-27T15:00:00.000000000",
          "2024-02-27T16:00:00.000000000",
          "2024-02-27T17:00:00.000000000",
          "2024-02-27T18:00:00.000000000",
          "2024-02-27T19:00:00.000000000",
          "2024-02-27T20:00:00.000000000",
          "2024-02-27T21:00:00.000000000",
          "2024-02-27T22:00:00.000000000",
          "2024-02-27T23:00:00.000000000",
          "2024-02-28T00:00:00.000000000",
          "2024-02-28T01:00:00.000000000",
          "2024-02-28T02:00:00.000000000",
          "2024-02-28T03:00:00.000000000",
          "2024-02-28T04:00:00.000000000",
          "2024-02-28T05:00:00.000000000",
          "2024-02-28T06:00:00.000000000",
          "2024-02-28T07:00:00.000000000",
          "2024-02-28T08:00:00.000000000",
          "2024-02-28T09:00:00.000000000",
          "2024-02-28T10:00:00.000000000",
          "2024-02-28T11:00:00.000000000",
          "2024-02-28T12:00:00.000000000",
          "2024-02-28T13:00:00.000000000",
          "2024-02-28T14:00:00.000000000",
          "2024-02-28T15:00:00.000000000",
          "2024-02-28T16:00:00.000000000",
          "2024-02-28T17:00:00.000000000",
          "2024-02-28T18:00:00.000000000",
          "2024-02-28T19:00:00.000000000",
          "2024-02-28T20:00:00.000000000",
          "2024-02-28T21:00:00.000000000",
          "2024-02-28T22:00:00.000000000",
          "2024-02-28T23:00:00.000000000",
          "2024-02-29T00:00:00.000000000",
          "2024-02-29T01:00:00.000000000",
          "2024-02-29T02:00:00.000000000",
          "2024-02-29T03:00:00.000000000",
          "2024-02-29T04:00:00.000000000",
          "2024-02-29T05:00:00.000000000",
          "2024-02-29T06:00:00.000000000",
          "2024-02-29T07:00:00.000000000",
          "2024-02-29T08:00:00.000000000",
          "2024-02-29T09:00:00.000000000",
          "2024-02-29T10:00:00.000000000",
          "2024-02-29T11:00:00.000000000",
          "2024-02-29T12:00:00.000000000",
          "2024-02-29T13:00:00.000000000",
          "2024-02-29T14:00:00.000000000",
          "2024-02-29T15:00:00.000000000",
          "2024-02-29T16:00:00.000000000",
          "2024-02-29T17:00:00.000000000",
          "2024-02-29T18:00:00.000000000",
          "2024-02-29T19:00:00.000000000",
          "2024-02-29T20:00:00.000000000",
          "2024-02-29T21:00:00.000000000",
          "2024-02-29T22:00:00.000000000",
          "2024-02-29T23:00:00.000000000",
          "2024-03-01T00:00:00.000000000",
          "2024-03-01T01:00:00.000000000",
          "2024-03-01T02:00:00.000000000",
          "2024-03-01T03:00:00.000000000",
          "2024-03-01T04:00:00.000000000",
          "2024-03-01T05:00:00.000000000",
          "2024-03-01T06:00:00.000000000",
          "2024-03-01T07:00:00.000000000",
          "2024-03-01T08:00:00.000000000",
          "2024-03-01T09:00:00.000000000",
          "2024-03-01T10:00:00.000000000",
          "2024-03-01T11:00:00.000000000",
          "2024-03-01T12:00:00.000000000",
          "2024-03-01T13:00:00.000000000",
          "2024-03-01T14:00:00.000000000",
          "2024-03-01T15:00:00.000000000",
          "2024-03-01T16:00:00.000000000",
          "2024-03-01T17:00:00.000000000",
          "2024-03-01T18:00:00.000000000",
          "2024-03-01T19:00:00.000000000",
          "2024-03-01T20:00:00.000000000",
          "2024-03-01T21:00:00.000000000",
          "2024-03-01T22:00:00.000000000",
          "2024-03-01T23:00:00.000000000",
          "2024-03-02T00:00:00.000000000",
          "2024-03-02T01:00:00.000000000",
          "2024-03-02T02:00:00.000000000",
          "2024-03-02T03:00:00.000000000",
          "2024-03-02T04:00:00.000000000",
          "2024-03-02T05:00:00.000000000",
          "2024-03-02T06:00:00.000000000",
          "2024-03-02T07:00:00.000000000",
          "2024-03-02T08:00:00.000000000",
          "2024-03-02T09:00:00.000000000",
          "2024-03-02T10:00:00.000000000",
          "2024-03-02T11:00:00.000000000",
          "2024-03-02T12:00:00.000000000",
          "2024-03-02T13:00:00.000000000",
          "2024-03-02T14:00:00.000000000",
          "2024-03-02T15:00:00.000000000",
          "2024-03-02T16:00:00.000000000",
          "2024-03-02T17:00:00.000000000",
          "2024-03-02T18:00:00.000000000",
          "2024-03-02T19:00:00.000000000",
          "2024-03-02T20:00:00.000000000",
          "2024-03-02T21:00:00.000000000",
          "2024-03-02T22:00:00.000000000",
          "2024-03-02T23:00:00.000000000",
          "2024-03-03T00:00:00.000000000",
          "2024-03-03T01:00:00.000000000",
          "2024-03-03T02:00:00.000000000",
          "2024-03-03T03:00:00.000000000",
          "2024-03-03T04:00:00.000000000",
          "2024-03-03T05:00:00.000000000",
          "2024-03-03T06:00:00.000000000",
          "2024-03-03T07:00:00.000000000",
          "2024-03-03T08:00:00.000000000",
          "2024-03-03T09:00:00.000000000",
          "2024-03-03T10:00:00.000000000",
          "2024-03-03T11:00:00.000000000",
          "2024-03-03T12:00:00.000000000",
          "2024-03-03T13:00:00.000000000",
          "2024-03-03T14:00:00.000000000",
          "2024-03-03T15:00:00.000000000",
          "2024-03-03T16:00:00.000000000",
          "2024-03-03T17:00:00.000000000",
          "2024-03-03T18:00:00.000000000",
          "2024-03-03T19:00:00.000000000",
          "2024-03-03T20:00:00.000000000",
          "2024-03-03T21:00:00.000000000",
          "2024-03-03T22:00:00.000000000",
          "2024-03-03T23:00:00.000000000",
          "2024-03-04T00:00:00.000000000",
          "2024-03-04T01:00:00.000000000",
          "2024-03-04T02:00:00.000000000",
          "2024-03-04T03:00:00.000000000",
          "2024-03-04T04:00:00.000000000",
          "2024-03-04T05:00:00.000000000",
          "2024-03-04T06:00:00.000000000",
          "2024-03-04T07:00:00.000000000",
          "2024-03-04T08:00:00.000000000",
          "2024-03-04T09:00:00.000000000",
          "2024-03-04T10:00:00.000000000",
          "2024-03-04T11:00:00.000000000",
          "2024-03-04T12:00:00.000000000",
          "2024-03-04T13:00:00.000000000",
          "2024-03-04T14:00:00.000000000",
          "2024-03-04T15:00:00.000000000",
          "2024-03-04T16:00:00.000000000",
          "2024-03-04T17:00:00.000000000",
          "2024-03-04T18:00:00.000000000",
          "2024-03-04T19:00:00.000000000",
          "2024-03-04T20:00:00.000000000",
          "2024-03-04T21:00:00.000000000",
          "2024-03-04T22:00:00.000000000",
          "2024-03-04T23:00:00.000000000",
          "2024-03-05T00:00:00.000000000",
          "2024-03-05T01:00:00.000000000",
          "2024-03-05T02:00:00.000000000",
          "2024-03-05T03:00:00.000000000",
          "2024-03-05T04:00:00.000000000",
          "2024-03-05T05:00:00.000000000",
          "2024-03-05T06:00:00.000000000",
          "2024-03-05T07:00:00.000000000",
          "2024-03-05T08:00:00.000000000",
          "2024-03-05T09:00:00.000000000",
          "2024-03-05T10:00:00.000000000",
          "2024-03-05T11:00:00.000000000",
          "2024-03-05T12:00:00.000000000",
          "2024-03-05T13:00:00.000000000",
          "2024-03-05T14:00:00.000000000",
          "2024-03-05T15:00:00.000000000",
          "2024-03-05T16:00:00.000000000",
          "2024-03-05T17:00:00.000000000",
          "2024-03-05T18:00:00.000000000",
          "2024-03-05T19:00:00.000000000",
          "2024-03-05T20:00:00.000000000",
          "2024-03-05T21:00:00.000000000",
          "2024-03-05T22:00:00.000000000",
          "2024-03-05T23:00:00.000000000",
          "2024-03-06T00:00:00.000000000",
          "2024-03-06T01:00:00.000000000",
          "2024-03-06T02:00:00.000000000",
          "2024-03-06T03:00:00.000000000",
          "2024-03-06T04:00:00.000000000",
          "2024-03-06T05:00:00.000000000",
          "2024-03-06T06:00:00.000000000",
          "2024-03-06T07:00:00.000000000",
          "2024-03-06T08:00:00.000000000",
          "2024-03-06T09:00:00.000000000",
          "2024-03-06T10:00:00.000000000",
          "2024-03-06T11:00:00.000000000",
          "2024-03-06T12:00:00.000000000",
          "2024-03-06T13:00:00.000000000",
          "2024-03-06T14:00:00.000000000",
          "2024-03-06T15:00:00.000000000",
          "2024-03-06T16:00:00.000000000",
          "2024-03-06T17:00:00.000000000",
          "2024-03-06T18:00:00.000000000",
          "2024-03-06T19:00:00.000000000",
          "2024-03-06T20:00:00.000000000",
          "2024-03-06T21:00:00.000000000",
          "2024-03-06T22:00:00.000000000",
          "2024-03-06T23:00:00.000000000",
          "2024-03-07T00:00:00.000000000",
          "2024-03-07T01:00:00.000000000",
          "2024-03-07T02:00:00.000000000",
          "2024-03-07T03:00:00.000000000",
          "2024-03-07T04:00:00.000000000",
          "2024-03-07T05:00:00.000000000",
          "2024-03-07T06:00:00.000000000",
          "2024-03-07T07:00:00.000000000",
          "2024-03-07T08:00:00.000000000",
          "2024-03-07T09:00:00.000000000",
          "2024-03-07T10:00:00.000000000",
          "2024-03-07T11:00:00.000000000",
          "2024-03-07T12:00:00.000000000",
          "2024-03-07T13:00:00.000000000",
          "2024-03-07T14:00:00.000000000",
          "2024-03-07T15:00:00.000000000",
          "2024-03-07T16:00:00.000000000",
          "2024-03-07T17:00:00.000000000",
          "2024-03-07T18:00:00.000000000",
          "2024-03-07T19:00:00.000000000",
          "2024-03-07T20:00:00.000000000",
          "2024-03-07T21:00:00.000000000",
          "2024-03-07T22:00:00.000000000",
          "2024-03-07T23:00:00.000000000",
          "2024-03-08T00:00:00.000000000",
          "2024-03-08T01:00:00.000000000",
          "2024-03-08T02:00:00.000000000",
          "2024-03-08T03:00:00.000000000",
          "2024-03-08T04:00:00.000000000",
          "2024-03-08T05:00:00.000000000",
          "2024-03-08T06:00:00.000000000",
          "2024-03-08T07:00:00.000000000",
          "2024-03-08T08:00:00.000000000",
          "2024-03-08T09:00:00.000000000",
          "2024-03-08T10:00:00.000000000",
          "2024-03-08T11:00:00.000000000",
          "2024-03-08T12:00:00.000000000",
          "2024-03-08T13:00:00.000000000",
          "2024-03-08T14:00:00.000000000",
          "2024-03-08T15:00:00.000000000",
          "2024-03-08T16:00:00.000000000",
          "2024-03-08T17:00:00.000000000",
          "2024-03-08T18:00:00.000000000",
          "2024-03-08T19:00:00.000000000",
          "2024-03-08T20:00:00.000000000",
          "2024-03-08T21:00:00.000000000",
          "2024-03-08T22:00:00.000000000",
          "2024-03-08T23:00:00.000000000",
          "2024-03-09T00:00:00.000000000",
          "2024-03-09T01:00:00.000000000",
          "2024-03-09T02:00:00.000000000",
          "2024-03-09T03:00:00.000000000",
          "2024-03-09T04:00:00.000000000",
          "2024-03-09T05:00:00.000000000",
          "2024-03-09T06:00:00.000000000",
          "2024-03-09T07:00:00.000000000",
          "2024-03-09T08:00:00.000000000",
          "2024-03-09T09:00:00.000000000",
          "2024-03-09T10:00:00.000000000",
          "2024-03-09T11:00:00.000000000",
          "2024-03-09T12:00:00.000000000",
          "2024-03-09T13:00:00.000000000",
          "2024-03-09T14:00:00.000000000",
          "2024-03-09T15:00:00.000000000",
          "2024-03-09T16:00:00.000000000",
          "2024-03-09T17:00:00.000000000",
          "2024-03-09T18:00:00.000000000",
          "2024-03-09T19:00:00.000000000",
          "2024-03-09T20:00:00.000000000",
          "2024-03-09T21:00:00.000000000",
          "2024-03-09T22:00:00.000000000",
          "2024-03-09T23:00:00.000000000",
          "2024-03-10T00:00:00.000000000",
          "2024-03-10T01:00:00.000000000",
          "2024-03-10T02:00:00.000000000",
          "2024-03-10T03:00:00.000000000",
          "2024-03-10T04:00:00.000000000",
          "2024-03-10T05:00:00.000000000",
          "2024-03-10T06:00:00.000000000",
          "2024-03-10T07:00:00.000000000",
          "2024-03-10T08:00:00.000000000",
          "2024-03-10T09:00:00.000000000",
          "2024-03-10T10:00:00.000000000",
          "2024-03-10T11:00:00.000000000",
          "2024-03-10T12:00:00.000000000",
          "2024-03-10T13:00:00.000000000",
          "2024-03-10T14:00:00.000000000",
          "2024-03-10T15:00:00.000000000",
          "2024-03-10T16:00:00.000000000",
          "2024-03-10T17:00:00.000000000",
          "2024-03-10T18:00:00.000000000",
          "2024-03-10T19:00:00.000000000",
          "2024-03-10T20:00:00.000000000",
          "2024-03-10T21:00:00.000000000",
          "2024-03-10T22:00:00.000000000",
          "2024-03-10T23:00:00.000000000",
          "2024-03-11T00:00:00.000000000",
          "2024-03-11T01:00:00.000000000",
          "2024-03-11T02:00:00.000000000",
          "2024-03-11T03:00:00.000000000",
          "2024-03-11T04:00:00.000000000",
          "2024-03-11T05:00:00.000000000",
          "2024-03-11T06:00:00.000000000",
          "2024-03-11T07:00:00.000000000",
          "2024-03-11T08:00:00.000000000",
          "2024-03-11T09:00:00.000000000",
          "2024-03-11T10:00:00.000000000",
          "2024-03-11T11:00:00.000000000",
          "2024-03-11T12:00:00.000000000",
          "2024-03-11T13:00:00.000000000",
          "2024-03-11T14:00:00.000000000",
          "2024-03-11T15:00:00.000000000",
          "2024-03-11T16:00:00.000000000",
          "2024-03-11T17:00:00.000000000",
          "2024-03-11T18:00:00.000000000",
          "2024-03-11T19:00:00.000000000",
          "2024-03-11T20:00:00.000000000",
          "2024-03-11T21:00:00.000000000",
          "2024-03-11T22:00:00.000000000",
          "2024-03-11T23:00:00.000000000",
          "2024-03-12T00:00:00.000000000",
          "2024-03-12T01:00:00.000000000",
          "2024-03-12T02:00:00.000000000",
          "2024-03-12T03:00:00.000000000",
          "2024-03-12T04:00:00.000000000",
          "2024-03-12T05:00:00.000000000",
          "2024-03-12T06:00:00.000000000",
          "2024-03-12T07:00:00.000000000",
          "2024-03-12T08:00:00.000000000",
          "2024-03-12T09:00:00.000000000",
          "2024-03-12T10:00:00.000000000",
          "2024-03-12T11:00:00.000000000",
          "2024-03-12T12:00:00.000000000",
          "2024-03-12T13:00:00.000000000",
          "2024-03-12T14:00:00.000000000",
          "2024-03-12T15:00:00.000000000",
          "2024-03-12T16:00:00.000000000",
          "2024-03-12T17:00:00.000000000",
          "2024-03-12T18:00:00.000000000",
          "2024-03-12T19:00:00.000000000",
          "2024-03-12T20:00:00.000000000",
          "2024-03-12T21:00:00.000000000",
          "2024-03-12T22:00:00.000000000",
          "2024-03-12T23:00:00.000000000",
          "2024-03-13T00:00:00.000000000",
          "2024-03-13T01:00:00.000000000",
          "2024-03-13T02:00:00.000000000",
          "2024-03-13T03:00:00.000000000",
          "2024-03-13T04:00:00.000000000",
          "2024-03-13T05:00:00.000000000",
          "2024-03-13T06:00:00.000000000",
          "2024-03-13T07:00:00.000000000",
          "2024-03-13T08:00:00.000000000",
          "2024-03-13T09:00:00.000000000",
          "2024-03-13T10:00:00.000000000",
          "2024-03-13T11:00:00.000000000",
          "2024-03-13T12:00:00.000000000",
          "2024-03-13T13:00:00.000000000",
          "2024-03-13T14:00:00.000000000",
          "2024-03-13T15:00:00.000000000",
          "2024-03-13T16:00:00.000000000",
          "2024-03-13T17:00:00.000000000",
          "2024-03-13T18:00:00.000000000",
          "2024-03-13T19:00:00.000000000",
          "2024-03-13T20:00:00.000000000",
          "2024-03-13T21:00:00.000000000",
          "2024-03-13T22:00:00.000000000",
          "2024-03-13T23:00:00.000000000",
          "2024-03-14T00:00:00.000000000",
          "2024-03-14T01:00:00.000000000",
          "2024-03-14T02:00:00.000000000",
          "2024-03-14T03:00:00.000000000",
          "2024-03-14T04:00:00.000000000",
          "2024-03-14T05:00:00.000000000",
          "2024-03-14T06:00:00.000000000",
          "2024-03-14T07:00:00.000000000",
          "2024-03-14T08:00:00.000000000",
          "2024-03-14T09:00:00.000000000",
          "2024-03-14T10:00:00.000000000",
          "2024-03-14T11:00:00.000000000",
          "2024-03-14T12:00:00.000000000",
          "2024-03-14T13:00:00.000000000",
          "2024-03-14T14:00:00.000000000",
          "2024-03-14T15:00:00.000000000",
          "2024-03-14T16:00:00.000000000",
          "2024-03-14T17:00:00.000000000",
          "2024-03-14T18:00:00.000000000",
          "2024-03-14T19:00:00.000000000",
          "2024-03-14T20:00:00.000000000",
          "2024-03-14T21:00:00.000000000",
          "2024-03-14T22:00:00.000000000",
          "2024-03-14T23:00:00.000000000",
          "2024-03-15T00:00:00.000000000"
         ],
         "xaxis": "x",
         "y": {
          "bdata": "AgEBAAEBBgsgEwcSEBYWFyEmHRUIAwMDBAAAAAEAAAMGAgcOCxAVFRAYDwsKAQUFAQAAAQABAgIECA4QDxYSGhIMCgsGBgICAgAAAAABAAUHChMVHxwXHhofGhcaAQQAAQEBAAAAAg4fDhIPCBMfGBsiKRQYDQIAAgAAAAAEBxciGQcOFBgKGx0mLCMQCwUEAQEAAAADCA0XFQ4KFBAXGhweMBYLBgcBAAAAAAAABQQhFgoUDxESDxsaGiIZBwMHAQEDAQABAgIGDRsaIiUaGhseEAYPAwEFAgMDAAEAAAMJCBkSFhUTFRgRGRIHCgEBAAAAAAADAwwkDAcJDRkZHyQ1LSMdCwkDBAEAAQACBgokFw8NFh0YERooEgQICAYDAwABAAABAQ8REwoKEAsNDhIkJB0ZAwIBAQAAAAABBAgVEg0IGw4YGxYlMSEZCwcEAAEAAAECAwUTEQwOGBUgEx0uGxwKCQAIAAEDAQABAAACBAYEBQgFBAcIBQYMAQQBAAMAAQAAAAEQFhgdICogIjkhIBMPCggBAQIAAAADBhIfGhYUFR0ZGiQgMigTDAwBAQEAAQABAQcHCAwEBQcJCwceJRIfDQoCAQAAAAADCBIhHBYTDAYIBgYJBgYMDQIBAAECAAABAQsfGQ0KDhMYFRsvNxoSEQEBAgIAAAABBAkcExUNIRokEx4mGxYSCgoDAgIEAQAAAQQHEQ8cGBQEDAcDAwgBAAAAAQIAAAEAAgEJDRIhGCAZGyAfFRQLAwMBAgAAAAACBAwYFA4LDBYQEiAuKyQgEwwCAQEBAAACBxIZHBYSEyIbHiZGPiQdFAsEAAUAAAAECg8oHBgSHhskHx07RR4dDQYIBAMAAAABCQsfJxAYGBYgJS03NSIbEQgGAA==",
          "dtype": "i1"
         },
         "yaxis": "y"
        },
        {
         "line": {
          "color": "green"
         },
         "marker": {
          "size": 10
         },
         "mode": "markers",
         "name": "Actual Value",
         "type": "scatter",
         "x": [
          "2024-03-15T00:00:00.000000000"
         ],
         "y": [
          0
         ]
        },
        {
         "line": {
          "color": "red"
         },
         "marker": {
          "size": 15,
          "symbol": "x"
         },
         "mode": "markers",
         "name": "Prediction",
         "type": "scatter",
         "x": [
          "2024-03-15T00:00:00.000000000"
         ],
         "y": [
          1
         ]
        }
       ],
       "layout": {
        "legend": {
         "tracegroupgap": 0
        },
        "template": {
         "data": {
          "bar": [
           {
            "error_x": {
             "color": "#2a3f5f"
            },
            "error_y": {
             "color": "#2a3f5f"
            },
            "marker": {
             "line": {
              "color": "white",
              "width": 0.5
             },
             "pattern": {
              "fillmode": "overlay",
              "size": 10,
              "solidity": 0.2
             }
            },
            "type": "bar"
           }
          ],
          "barpolar": [
           {
            "marker": {
             "line": {
              "color": "white",
              "width": 0.5
             },
             "pattern": {
              "fillmode": "overlay",
              "size": 10,
              "solidity": 0.2
             }
            },
            "type": "barpolar"
           }
          ],
          "carpet": [
           {
            "aaxis": {
             "endlinecolor": "#2a3f5f",
             "gridcolor": "#C8D4E3",
             "linecolor": "#C8D4E3",
             "minorgridcolor": "#C8D4E3",
             "startlinecolor": "#2a3f5f"
            },
            "baxis": {
             "endlinecolor": "#2a3f5f",
             "gridcolor": "#C8D4E3",
             "linecolor": "#C8D4E3",
             "minorgridcolor": "#C8D4E3",
             "startlinecolor": "#2a3f5f"
            },
            "type": "carpet"
           }
          ],
          "choropleth": [
           {
            "colorbar": {
             "outlinewidth": 0,
             "ticks": ""
            },
            "type": "choropleth"
           }
          ],
          "contour": [
           {
            "colorbar": {
             "outlinewidth": 0,
             "ticks": ""
            },
            "colorscale": [
             [
              0,
              "#0d0887"
             ],
             [
              0.1111111111111111,
              "#46039f"
             ],
             [
              0.2222222222222222,
              "#7201a8"
             ],
             [
              0.3333333333333333,
              "#9c179e"
             ],
             [
              0.4444444444444444,
              "#bd3786"
             ],
             [
              0.5555555555555556,
              "#d8576b"
             ],
             [
              0.6666666666666666,
              "#ed7953"
             ],
             [
              0.7777777777777778,
              "#fb9f3a"
             ],
             [
              0.8888888888888888,
              "#fdca26"
             ],
             [
              1,
              "#f0f921"
             ]
            ],
            "type": "contour"
           }
          ],
          "contourcarpet": [
           {
            "colorbar": {
             "outlinewidth": 0,
             "ticks": ""
            },
            "type": "contourcarpet"
           }
          ],
          "heatmap": [
           {
            "colorbar": {
             "outlinewidth": 0,
             "ticks": ""
            },
            "colorscale": [
             [
              0,
              "#0d0887"
             ],
             [
              0.1111111111111111,
              "#46039f"
             ],
             [
              0.2222222222222222,
              "#7201a8"
             ],
             [
              0.3333333333333333,
              "#9c179e"
             ],
             [
              0.4444444444444444,
              "#bd3786"
             ],
             [
              0.5555555555555556,
              "#d8576b"
             ],
             [
              0.6666666666666666,
              "#ed7953"
             ],
             [
              0.7777777777777778,
              "#fb9f3a"
             ],
             [
              0.8888888888888888,
              "#fdca26"
             ],
             [
              1,
              "#f0f921"
             ]
            ],
            "type": "heatmap"
           }
          ],
          "histogram": [
           {
            "marker": {
             "pattern": {
              "fillmode": "overlay",
              "size": 10,
              "solidity": 0.2
             }
            },
            "type": "histogram"
           }
          ],
          "histogram2d": [
           {
            "colorbar": {
             "outlinewidth": 0,
             "ticks": ""
            },
            "colorscale": [
             [
              0,
              "#0d0887"
             ],
             [
              0.1111111111111111,
              "#46039f"
             ],
             [
              0.2222222222222222,
              "#7201a8"
             ],
             [
              0.3333333333333333,
              "#9c179e"
             ],
             [
              0.4444444444444444,
              "#bd3786"
             ],
             [
              0.5555555555555556,
              "#d8576b"
             ],
             [
              0.6666666666666666,
              "#ed7953"
             ],
             [
              0.7777777777777778,
              "#fb9f3a"
             ],
             [
              0.8888888888888888,
              "#fdca26"
             ],
             [
              1,
              "#f0f921"
             ]
            ],
            "type": "histogram2d"
           }
          ],
          "histogram2dcontour": [
           {
            "colorbar": {
             "outlinewidth": 0,
             "ticks": ""
            },
            "colorscale": [
             [
              0,
              "#0d0887"
             ],
             [
              0.1111111111111111,
              "#46039f"
             ],
             [
              0.2222222222222222,
              "#7201a8"
             ],
             [
              0.3333333333333333,
              "#9c179e"
             ],
             [
              0.4444444444444444,
              "#bd3786"
             ],
             [
              0.5555555555555556,
              "#d8576b"
             ],
             [
              0.6666666666666666,
              "#ed7953"
             ],
             [
              0.7777777777777778,
              "#fb9f3a"
             ],
             [
              0.8888888888888888,
              "#fdca26"
             ],
             [
              1,
              "#f0f921"
             ]
            ],
            "type": "histogram2dcontour"
           }
          ],
          "mesh3d": [
           {
            "colorbar": {
             "outlinewidth": 0,
             "ticks": ""
            },
            "type": "mesh3d"
           }
          ],
          "parcoords": [
           {
            "line": {
             "colorbar": {
              "outlinewidth": 0,
              "ticks": ""
             }
            },
            "type": "parcoords"
           }
          ],
          "pie": [
           {
            "automargin": true,
            "type": "pie"
           }
          ],
          "scatter": [
           {
            "fillpattern": {
             "fillmode": "overlay",
             "size": 10,
             "solidity": 0.2
            },
            "type": "scatter"
           }
          ],
          "scatter3d": [
           {
            "line": {
             "colorbar": {
              "outlinewidth": 0,
              "ticks": ""
             }
            },
            "marker": {
             "colorbar": {
              "outlinewidth": 0,
              "ticks": ""
             }
            },
            "type": "scatter3d"
           }
          ],
          "scattercarpet": [
           {
            "marker": {
             "colorbar": {
              "outlinewidth": 0,
              "ticks": ""
             }
            },
            "type": "scattercarpet"
           }
          ],
          "scattergeo": [
           {
            "marker": {
             "colorbar": {
              "outlinewidth": 0,
              "ticks": ""
             }
            },
            "type": "scattergeo"
           }
          ],
          "scattergl": [
           {
            "marker": {
             "colorbar": {
              "outlinewidth": 0,
              "ticks": ""
             }
            },
            "type": "scattergl"
           }
          ],
          "scattermap": [
           {
            "marker": {
             "colorbar": {
              "outlinewidth": 0,
              "ticks": ""
             }
            },
            "type": "scattermap"
           }
          ],
          "scattermapbox": [
           {
            "marker": {
             "colorbar": {
              "outlinewidth": 0,
              "ticks": ""
             }
            },
            "type": "scattermapbox"
           }
          ],
          "scatterpolar": [
           {
            "marker": {
             "colorbar": {
              "outlinewidth": 0,
              "ticks": ""
             }
            },
            "type": "scatterpolar"
           }
          ],
          "scatterpolargl": [
           {
            "marker": {
             "colorbar": {
              "outlinewidth": 0,
              "ticks": ""
             }
            },
            "type": "scatterpolargl"
           }
          ],
          "scatterternary": [
           {
            "marker": {
             "colorbar": {
              "outlinewidth": 0,
              "ticks": ""
             }
            },
            "type": "scatterternary"
           }
          ],
          "surface": [
           {
            "colorbar": {
             "outlinewidth": 0,
             "ticks": ""
            },
            "colorscale": [
             [
              0,
              "#0d0887"
             ],
             [
              0.1111111111111111,
              "#46039f"
             ],
             [
              0.2222222222222222,
              "#7201a8"
             ],
             [
              0.3333333333333333,
              "#9c179e"
             ],
             [
              0.4444444444444444,
              "#bd3786"
             ],
             [
              0.5555555555555556,
              "#d8576b"
             ],
             [
              0.6666666666666666,
              "#ed7953"
             ],
             [
              0.7777777777777778,
              "#fb9f3a"
             ],
             [
              0.8888888888888888,
              "#fdca26"
             ],
             [
              1,
              "#f0f921"
             ]
            ],
            "type": "surface"
           }
          ],
          "table": [
           {
            "cells": {
             "fill": {
              "color": "#EBF0F8"
             },
             "line": {
              "color": "white"
             }
            },
            "header": {
             "fill": {
              "color": "#C8D4E3"
             },
             "line": {
              "color": "white"
             }
            },
            "type": "table"
           }
          ]
         },
         "layout": {
          "annotationdefaults": {
           "arrowcolor": "#2a3f5f",
           "arrowhead": 0,
           "arrowwidth": 1
          },
          "autotypenumbers": "strict",
          "coloraxis": {
           "colorbar": {
            "outlinewidth": 0,
            "ticks": ""
           }
          },
          "colorscale": {
           "diverging": [
            [
             0,
             "#8e0152"
            ],
            [
             0.1,
             "#c51b7d"
            ],
            [
             0.2,
             "#de77ae"
            ],
            [
             0.3,
             "#f1b6da"
            ],
            [
             0.4,
             "#fde0ef"
            ],
            [
             0.5,
             "#f7f7f7"
            ],
            [
             0.6,
             "#e6f5d0"
            ],
            [
             0.7,
             "#b8e186"
            ],
            [
             0.8,
             "#7fbc41"
            ],
            [
             0.9,
             "#4d9221"
            ],
            [
             1,
             "#276419"
            ]
           ],
           "sequential": [
            [
             0,
             "#0d0887"
            ],
            [
             0.1111111111111111,
             "#46039f"
            ],
            [
             0.2222222222222222,
             "#7201a8"
            ],
            [
             0.3333333333333333,
             "#9c179e"
            ],
            [
             0.4444444444444444,
             "#bd3786"
            ],
            [
             0.5555555555555556,
             "#d8576b"
            ],
            [
             0.6666666666666666,
             "#ed7953"
            ],
            [
             0.7777777777777778,
             "#fb9f3a"
            ],
            [
             0.8888888888888888,
             "#fdca26"
            ],
            [
             1,
             "#f0f921"
            ]
           ],
           "sequentialminus": [
            [
             0,
             "#0d0887"
            ],
            [
             0.1111111111111111,
             "#46039f"
            ],
            [
             0.2222222222222222,
             "#7201a8"
            ],
            [
             0.3333333333333333,
             "#9c179e"
            ],
            [
             0.4444444444444444,
             "#bd3786"
            ],
            [
             0.5555555555555556,
             "#d8576b"
            ],
            [
             0.6666666666666666,
             "#ed7953"
            ],
            [
             0.7777777777777778,
             "#fb9f3a"
            ],
            [
             0.8888888888888888,
             "#fdca26"
            ],
            [
             1,
             "#f0f921"
            ]
           ]
          },
          "colorway": [
           "#636efa",
           "#EF553B",
           "#00cc96",
           "#ab63fa",
           "#FFA15A",
           "#19d3f3",
           "#FF6692",
           "#B6E880",
           "#FF97FF",
           "#FECB52"
          ],
          "font": {
           "color": "#2a3f5f"
          },
          "geo": {
           "bgcolor": "white",
           "lakecolor": "white",
           "landcolor": "white",
           "showlakes": true,
           "showland": true,
           "subunitcolor": "#C8D4E3"
          },
          "hoverlabel": {
           "align": "left"
          },
          "hovermode": "closest",
          "mapbox": {
           "style": "light"
          },
          "paper_bgcolor": "white",
          "plot_bgcolor": "white",
          "polar": {
           "angularaxis": {
            "gridcolor": "#EBF0F8",
            "linecolor": "#EBF0F8",
            "ticks": ""
           },
           "bgcolor": "white",
           "radialaxis": {
            "gridcolor": "#EBF0F8",
            "linecolor": "#EBF0F8",
            "ticks": ""
           }
          },
          "scene": {
           "xaxis": {
            "backgroundcolor": "white",
            "gridcolor": "#DFE8F3",
            "gridwidth": 2,
            "linecolor": "#EBF0F8",
            "showbackground": true,
            "ticks": "",
            "zerolinecolor": "#EBF0F8"
           },
           "yaxis": {
            "backgroundcolor": "white",
            "gridcolor": "#DFE8F3",
            "gridwidth": 2,
            "linecolor": "#EBF0F8",
            "showbackground": true,
            "ticks": "",
            "zerolinecolor": "#EBF0F8"
           },
           "zaxis": {
            "backgroundcolor": "white",
            "gridcolor": "#DFE8F3",
            "gridwidth": 2,
            "linecolor": "#EBF0F8",
            "showbackground": true,
            "ticks": "",
            "zerolinecolor": "#EBF0F8"
           }
          },
          "shapedefaults": {
           "line": {
            "color": "#2a3f5f"
           }
          },
          "ternary": {
           "aaxis": {
            "gridcolor": "#DFE8F3",
            "linecolor": "#A2B1C6",
            "ticks": ""
           },
           "baxis": {
            "gridcolor": "#DFE8F3",
            "linecolor": "#A2B1C6",
            "ticks": ""
           },
           "bgcolor": "white",
           "caxis": {
            "gridcolor": "#DFE8F3",
            "linecolor": "#A2B1C6",
            "ticks": ""
           }
          },
          "title": {
           "x": 0.05
          },
          "xaxis": {
           "automargin": true,
           "gridcolor": "#EBF0F8",
           "linecolor": "#EBF0F8",
           "ticks": "",
           "title": {
            "standoff": 15
           },
           "zerolinecolor": "#EBF0F8",
           "zerolinewidth": 2
          },
          "yaxis": {
           "automargin": true,
           "gridcolor": "#EBF0F8",
           "linecolor": "#EBF0F8",
           "ticks": "",
           "title": {
            "standoff": 15
           },
           "zerolinecolor": "#EBF0F8",
           "zerolinewidth": 2
          }
         }
        },
        "title": {
         "text": "Pickup Hour: 2024-03-15 00:00:00, Location ID: 6140.05"
        },
        "xaxis": {
         "anchor": "y",
         "domain": [
          0,
          1
         ],
         "title": {
          "text": "Time"
         }
        },
        "yaxis": {
         "anchor": "x",
         "domain": [
          0,
          1
         ],
         "title": {
          "text": "Ride Counts"
         }
        }
       }
      }
     },
     "metadata": {},
     "output_type": "display_data"
    }
   ],
   "source": [
    "from src.plot_utils import plot_aggregated_time_series\n",
    "\n",
    "plot_aggregated_time_series(X_test, y_test, 18003, predictions)"
   ]
  }
 ],
 "metadata": {
  "kernelspec": {
   "display_name": "finalProject",
   "language": "python",
   "name": "python3"
  },
  "language_info": {
   "codemirror_mode": {
    "name": "ipython",
    "version": 3
   },
   "file_extension": ".py",
   "mimetype": "text/x-python",
   "name": "python",
   "nbconvert_exporter": "python",
   "pygments_lexer": "ipython3",
   "version": "3.10.0"
  }
 },
 "nbformat": 4,
 "nbformat_minor": 5
}
